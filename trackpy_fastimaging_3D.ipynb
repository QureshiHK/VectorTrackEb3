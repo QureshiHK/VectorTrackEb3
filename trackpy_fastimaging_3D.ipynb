{
 "cells": [
  {
   "cell_type": "code",
   "execution_count": 1,
   "id": "8a0b9b5e-54d5-4ff9-a199-c7872682d61f",
   "metadata": {
    "tags": []
   },
   "outputs": [],
   "source": [
    "from skimage import io, data\n",
    "from skimage import filters, measure\n",
    "import napari\n",
    "from scipy import ndimage as ndi\n",
    "import numpy as np\n",
    "from PIL import Image\n",
    "from aicsimageio import AICSImage, imread\n",
    "import trackpy as tp\n",
    "\n",
    "import matplotlib as mpl\n",
    "import matplotlib.pyplot as plt"
   ]
  },
  {
   "cell_type": "code",
   "execution_count": 2,
   "id": "b57f97f2-da2a-4fde-bfa1-1c63b4870cd2",
   "metadata": {
    "tags": []
   },
   "outputs": [
    {
     "name": "stderr",
     "output_type": "stream",
     "text": [
      "C:\\Users\\hkqur\\miniconda3\\envs\\devbio_2\\lib\\site-packages\\networkx\\utils\\backends.py:135: RuntimeWarning: networkx backend defined more than once: nx-loopback\n",
      "  backends.update(_get_backends(\"networkx.backends\"))\n",
      "WARNING: QWindowsWindow::setGeometry: Unable to set geometry 640x510+1256+579 (frame: 658x557+1247+541) on QWidgetWindow/\"_QtMainWindowClassWindow\" on \"\\\\.\\DISPLAY1\". Resulting geometry: 802x639+1257+586 (frame: 820x686+1248+548) margins: 9, 38, 9, 9 minimum size: 385x515 MINMAXINFO maxSize=0,0 maxpos=0,0 mintrack=403,562 maxtrack=0,0)\n",
      "21-Aug-24 14:31:20 - vispy    - WARNING  - QWindowsWindow::setGeometry: Unable to set geometry 640x510+1256+579 (frame: 658x557+1247+541) on QWidgetWindow/\"_QtMainWindowClassWindow\" on \"\\\\.\\DISPLAY1\". Resulting geometry: 802x639+1257+586 (frame: 820x686+1248+548) margins: 9, 38, 9, 9 minimum size: 385x515 MINMAXINFO maxSize=0,0 maxpos=0,0 mintrack=403,562 maxtrack=0,0)\n"
     ]
    }
   ],
   "source": [
    "viewer = napari.Viewer(title='t3D_trackpy_postptoj')"
   ]
  },
  {
   "cell_type": "code",
   "execution_count": 3,
   "id": "63becdd2-bb2f-486e-8b27-73fd42347e9c",
   "metadata": {
    "tags": []
   },
   "outputs": [
    {
     "name": "stdout",
     "output_type": "stream",
     "text": [
      "(114, 1, 26, 332, 332)\n"
     ]
    }
   ],
   "source": [
    "analymage_Post = AICSImage('C:/Users/hkqur/Documents/napari/eb3/2024-02-09/fast/eb3_lifeact_58hrs_at_26C_e3_fast_proj-01-Airyscan Processing-17.czi')\n",
    "print(analymage_Post.shape)"
   ]
  },
  {
   "cell_type": "code",
   "execution_count": 4,
   "id": "c76723d8-0592-4fb9-8711-370a14d9fb5a",
   "metadata": {
    "tags": []
   },
   "outputs": [],
   "source": [
    "imagoPP_ch1 = analymage_Post.data[:,0,:,:,:]\n",
    "\n"
   ]
  },
  {
   "cell_type": "code",
   "execution_count": 5,
   "id": "a4c7bc7d-fc34-4311-94b4-fb99ea4c6844",
   "metadata": {
    "tags": []
   },
   "outputs": [
    {
     "name": "stderr",
     "output_type": "stream",
     "text": [
      "21-Aug-24 14:31:37 - napari_bleach_correct.modules.exponential - INFO     - R-squared value for fitting a bi-exponential curve: 0.9995509942497519\n"
     ]
    }
   ],
   "source": [
    "viewer.add_image(imagoPP_ch1, name='eb3-GFP',colormap='green',blending='additive')\n",
    "viewer.layers['eb3-GFP'].scale=[6,1,1]"
   ]
  },
  {
   "cell_type": "code",
   "execution_count": 6,
   "id": "e6bb4176-3cf9-4891-a056-6292c5f3454e",
   "metadata": {
    "tags": []
   },
   "outputs": [],
   "source": [
    "viewer.layers['eb3-GFP Corrected (Exponential Curve Method)'].scale=[6,1,1]"
   ]
  },
  {
   "cell_type": "code",
   "execution_count": 7,
   "id": "fc5c85a7-7a2a-4068-ba82-511302cc0349",
   "metadata": {
    "tags": []
   },
   "outputs": [],
   "source": [
    "max_z_fast = viewer.layers['eb3-GFP Corrected (Exponential Curve Method)'].data"
   ]
  },
  {
   "cell_type": "markdown",
   "id": "d40177f6-5fb3-46ac-9c73-ca4cba6e4e80",
   "metadata": {},
   "source": [
    "###TRACKING"
   ]
  },
  {
   "cell_type": "code",
   "execution_count": 8,
   "id": "87812153-48f2-4610-8160-b988f6f29792",
   "metadata": {
    "tags": []
   },
   "outputs": [
    {
     "name": "stdout",
     "output_type": "stream",
     "text": [
      "Frame 0: 38 features\n"
     ]
    },
    {
     "ename": "MemoryError",
     "evalue": "",
     "output_type": "error",
     "traceback": [
      "\u001b[1;31m---------------------------------------------------------------------------\u001b[0m",
      "\u001b[1;31mRemoteTraceback\u001b[0m                           Traceback (most recent call last)",
      "\u001b[1;31mRemoteTraceback\u001b[0m: \n\"\"\"\nTraceback (most recent call last):\n  File \"C:\\Users\\hkqur\\miniconda3\\envs\\devbio_2\\lib\\multiprocessing\\pool.py\", line 125, in worker\n    result = (True, func(*args, **kwds))\n  File \"C:\\Users\\hkqur\\miniconda3\\envs\\devbio_2\\lib\\site-packages\\trackpy\\feature.py\", line 444, in locate\n    black_level, noise = measure_noise(image, raw_image, radius)\n  File \"C:\\Users\\hkqur\\miniconda3\\envs\\devbio_2\\lib\\site-packages\\trackpy\\uncertainty.py\", line 29, in measure_noise\n    background = ~binary_dilation(image_bp, structure=structure)\n  File \"C:\\Users\\hkqur\\miniconda3\\envs\\devbio_2\\lib\\site-packages\\scipy\\ndimage\\_morphology.py\", line 520, in binary_dilation\n    return _binary_erosion(input, structure, iterations, mask,\n  File \"C:\\Users\\hkqur\\miniconda3\\envs\\devbio_2\\lib\\site-packages\\scipy\\ndimage\\_morphology.py\", line 254, in _binary_erosion\n    _nd_image.binary_erosion(input, structure, mask, output,\nMemoryError\n\"\"\"",
      "\nThe above exception was the direct cause of the following exception:\n",
      "\u001b[1;31mMemoryError\u001b[0m                               Traceback (most recent call last)",
      "Cell \u001b[1;32mIn[8], line 1\u001b[0m\n\u001b[1;32m----> 1\u001b[0m batch_track \u001b[38;5;241m=\u001b[39m \u001b[43mtp\u001b[49m\u001b[38;5;241;43m.\u001b[39;49m\u001b[43mbatch\u001b[49m\u001b[43m(\u001b[49m\u001b[43mmax_z_fast\u001b[49m\u001b[43m[\u001b[49m\u001b[43m:\u001b[49m\u001b[38;5;241;43m17\u001b[39;49m\u001b[43m]\u001b[49m\u001b[43m,\u001b[49m\u001b[43mdiameter\u001b[49m\u001b[38;5;241;43m=\u001b[39;49m\u001b[43m(\u001b[49m\u001b[38;5;241;43m9\u001b[39;49m\u001b[43m,\u001b[49m\u001b[38;5;241;43m51\u001b[39;49m\u001b[43m,\u001b[49m\u001b[38;5;241;43m51\u001b[39;49m\u001b[43m)\u001b[49m\u001b[43m,\u001b[49m\u001b[43m \u001b[49m\u001b[43mminmass\u001b[49m\u001b[38;5;241;43m=\u001b[39;49m\u001b[38;5;241;43m400\u001b[39;49m\u001b[43m,\u001b[49m\u001b[43m \u001b[49m\u001b[43mseparation\u001b[49m\u001b[38;5;241;43m=\u001b[39;49m\u001b[43m(\u001b[49m\u001b[38;5;241;43m5\u001b[39;49m\u001b[43m,\u001b[49m\u001b[38;5;241;43m17\u001b[39;49m\u001b[43m,\u001b[49m\u001b[38;5;241;43m17\u001b[39;49m\u001b[43m)\u001b[49m\u001b[43m,\u001b[49m\u001b[43m \u001b[49m\u001b[43mnoise_size\u001b[49m\u001b[38;5;241;43m=\u001b[39;49m\u001b[43m(\u001b[49m\u001b[38;5;241;43m4\u001b[39;49m\u001b[43m,\u001b[49m\u001b[38;5;241;43m4\u001b[39;49m\u001b[43m,\u001b[49m\u001b[38;5;241;43m4\u001b[39;49m\u001b[43m)\u001b[49m\u001b[43m,\u001b[49m\u001b[43m \u001b[49m\u001b[43mpercentile\u001b[49m\u001b[38;5;241;43m=\u001b[39;49m\u001b[38;5;241;43m40\u001b[39;49m\u001b[43m)\u001b[49m\n",
      "File \u001b[1;32m~\\miniconda3\\envs\\devbio_2\\lib\\site-packages\\trackpy\\feature.py:557\u001b[0m, in \u001b[0;36mbatch\u001b[1;34m(frames, diameter, output, meta, processes, after_locate, **kwargs)\u001b[0m\n\u001b[0;32m    555\u001b[0m \u001b[38;5;28;01mtry\u001b[39;00m:\n\u001b[0;32m    556\u001b[0m     all_features \u001b[38;5;241m=\u001b[39m []\n\u001b[1;32m--> 557\u001b[0m     \u001b[38;5;28;01mfor\u001b[39;00m i, features \u001b[38;5;129;01min\u001b[39;00m \u001b[38;5;28menumerate\u001b[39m(map_func(curried_locate, frames)):\n\u001b[0;32m    558\u001b[0m         image \u001b[38;5;241m=\u001b[39m frames[i]\n\u001b[0;32m    559\u001b[0m         \u001b[38;5;28;01mif\u001b[39;00m \u001b[38;5;28mhasattr\u001b[39m(image, \u001b[38;5;124m'\u001b[39m\u001b[38;5;124mframe_no\u001b[39m\u001b[38;5;124m'\u001b[39m) \u001b[38;5;129;01mand\u001b[39;00m image\u001b[38;5;241m.\u001b[39mframe_no \u001b[38;5;129;01mis\u001b[39;00m \u001b[38;5;129;01mnot\u001b[39;00m \u001b[38;5;28;01mNone\u001b[39;00m:\n",
      "File \u001b[1;32m~\\miniconda3\\envs\\devbio_2\\lib\\multiprocessing\\pool.py:870\u001b[0m, in \u001b[0;36mIMapIterator.next\u001b[1;34m(self, timeout)\u001b[0m\n\u001b[0;32m    868\u001b[0m \u001b[38;5;28;01mif\u001b[39;00m success:\n\u001b[0;32m    869\u001b[0m     \u001b[38;5;28;01mreturn\u001b[39;00m value\n\u001b[1;32m--> 870\u001b[0m \u001b[38;5;28;01mraise\u001b[39;00m value\n",
      "\u001b[1;31mMemoryError\u001b[0m: "
     ]
    }
   ],
   "source": [
    "batch_track = tp.batch(max_z_fast[:17],diameter=(9,51,51), minmass=400, separation=(5,17,17), noise_size=(4,4,4), percentile=40)"
   ]
  },
  {
   "cell_type": "code",
   "execution_count": 106,
   "id": "6f84118d-e223-4c17-9a81-6cc1f2b20003",
   "metadata": {
    "tags": []
   },
   "outputs": [
    {
     "name": "stderr",
     "output_type": "stream",
     "text": [
      "C:\\Users\\hkqur\\miniconda3\\envs\\napdevbio\\lib\\site-packages\\trackpy\\plots.py:638: FutureWarning: DataFrame.applymap has been deprecated. Use DataFrame.map instead.\n",
      "  axlist = f[pos_columns].applymap(lambda x: x % 1).hist()\n"
     ]
    },
    {
     "data": {
      "text/plain": [
       "array([[<Axes: title={'center': 'x'}>, <Axes: title={'center': 'y'}>],\n",
       "       [<Axes: title={'center': 'z'}>, <Axes: >]], dtype=object)"
      ]
     },
     "execution_count": 106,
     "metadata": {},
     "output_type": "execute_result"
    },
    {
     "data": {
      "image/png": "[encoded data removed]",
      "text/plain": [
       "<Figure size 640x480 with 4 Axes>"
      ]
     },
     "metadata": {},
     "output_type": "display_data"
    }
   ],
   "source": [
    "tp.subpx_bias(batch_track)"
   ]
  },
  {
   "cell_type": "code",
   "execution_count": 107,
   "id": "b87c53c1-9ed6-462e-9395-fdb81f9f4e0f",
   "metadata": {
    "tags": []
   },
   "outputs": [
    {
     "data": {
      "text/plain": [
       "<bound method NDFrame.head of               z           y           x          mass    size_z     size_y  \\\n",
       "0      5.566386  429.390531  230.101984  4.777346e+06  3.033162  20.036987   \n",
       "1      6.547100   76.202057  235.886494  8.212674e+06  2.963385  12.885868   \n",
       "2      6.421198   82.096383  195.482427  5.600873e+06  2.914140   6.791179   \n",
       "3      6.536889  213.484213  190.427630  3.403953e+06  2.492383  22.024673   \n",
       "4      6.335207  318.412897  236.763296  8.939575e+06  3.241487  15.028858   \n",
       "...         ...         ...         ...           ...       ...        ...   \n",
       "2733  68.545148  405.108108  307.046694  1.315926e+05  3.247989  15.148448   \n",
       "2734  69.486675   41.750127   33.530489  4.409812e+06  3.016536  20.848202   \n",
       "2735  69.515503  183.975807   75.799032  2.094949e+06  2.749892  19.329876   \n",
       "2736  68.579142  449.058585  157.859133  3.144623e+05  2.806516  20.823299   \n",
       "2737  69.444450  341.088988  193.760899  7.653060e+05  3.079513  17.474961   \n",
       "\n",
       "         size_x  ecc       signal    raw_mass      ep_z      ep_y      ep_x  \\\n",
       "0      7.660993  NaN  2329.274335  51987298.0  0.015072  0.098202  0.098202   \n",
       "1     20.949318  NaN  2844.407117  71494056.0  0.010534  0.068631  0.068631   \n",
       "2     22.582543  NaN  2490.370405  71463305.0  0.010539  0.068664  0.068664   \n",
       "3     23.537117  NaN  3012.746265  54094559.0  0.014402  0.093835  0.093835   \n",
       "4     10.610920  NaN  4079.476985  63354679.0  0.012047  0.078494  0.078494   \n",
       "...         ...  ...          ...         ...       ...       ...       ...   \n",
       "2733  12.621536  NaN    93.580970   3552632.0 -0.102846 -0.670092 -0.670092   \n",
       "2734  13.905310  NaN  2731.953534  76890871.0  0.017721  0.115458  0.115458   \n",
       "2735  20.053421  NaN  1220.479082  41201422.0  0.041258  0.268813  0.268813   \n",
       "2736  11.607384  NaN   314.227009  12376080.0 -0.566880 -3.693487 -3.693487   \n",
       "2737  11.141921  NaN   371.924367  26728161.0  0.089427  0.582660  0.582660   \n",
       "\n",
       "      frame  \n",
       "0         0  \n",
       "1         0  \n",
       "2         0  \n",
       "3         0  \n",
       "4         0  \n",
       "...     ...  \n",
       "2733     16  \n",
       "2734     16  \n",
       "2735     16  \n",
       "2736     16  \n",
       "2737     16  \n",
       "\n",
       "[2738 rows x 14 columns]>"
      ]
     },
     "execution_count": 107,
     "metadata": {},
     "output_type": "execute_result"
    }
   ],
   "source": [
    "batch_track.head"
   ]
  },
  {
   "cell_type": "code",
   "execution_count": 108,
   "id": "c26a9000-087f-435d-b129-974cfd5715db",
   "metadata": {
    "tags": []
   },
   "outputs": [
    {
     "data": {
      "text/plain": [
       "(array([ 35., 227., 724., 700., 492., 268., 106.,  84.,  49.,   8.,   5.,\n",
       "          7.,   9.,   5.,   6.,   3.,   8.,   0.,   0.,   2.]),\n",
       " array([1.60401500e+06, 1.23002305e+07, 2.29964460e+07, 3.36926615e+07,\n",
       "        4.43888770e+07, 5.50850925e+07, 6.57813080e+07, 7.64775235e+07,\n",
       "        8.71737390e+07, 9.78699545e+07, 1.08566170e+08, 1.19262386e+08,\n",
       "        1.29958601e+08, 1.40654816e+08, 1.51351032e+08, 1.62047248e+08,\n",
       "        1.72743463e+08, 1.83439678e+08, 1.94135894e+08, 2.04832110e+08,\n",
       "        2.15528325e+08]),\n",
       " <BarContainer object of 20 artists>)"
      ]
     },
     "execution_count": 108,
     "metadata": {},
     "output_type": "execute_result"
    },
    {
     "data": {
      "image/png": "[encoded data removed]",
      "text/plain": [
       "<Figure size 640x480 with 1 Axes>"
      ]
     },
     "metadata": {},
     "output_type": "display_data"
    }
   ],
   "source": [
    "fig,ax=plt.subplots()\n",
    "ax.hist(batch_track['raw_mass'], bins=20)"
   ]
  },
  {
   "cell_type": "code",
   "execution_count": 109,
   "id": "dfb8c422-55be-4a11-a4c1-6ff66a128cb6",
   "metadata": {
    "tags": []
   },
   "outputs": [
    {
     "data": {
      "text/plain": [
       "Index(['z', 'y', 'x', 'mass', 'size_z', 'size_y', 'size_x', 'ecc', 'signal',\n",
       "       'raw_mass', 'ep_z', 'ep_y', 'ep_x', 'frame'],\n",
       "      dtype='object')"
      ]
     },
     "execution_count": 109,
     "metadata": {},
     "output_type": "execute_result"
    }
   ],
   "source": [
    "batch_track.columns"
   ]
  },
  {
   "cell_type": "code",
   "execution_count": 110,
   "id": "6cf33e24-3b18-48e7-a336-8f5827374f0a",
   "metadata": {
    "tags": []
   },
   "outputs": [],
   "source": [
    "batch_track['id'] = np.arange(0,len(batch_track))"
   ]
  },
  {
   "cell_type": "code",
   "execution_count": 111,
   "id": "88fc59f9-ab7f-44a3-a6c9-ff892a7533ec",
   "metadata": {
    "tags": []
   },
   "outputs": [],
   "source": [
    "batch_track_reorg=batch_track[[\"id\",\"frame\",\"z\",\"y\",\"x\"]]"
   ]
  },
  {
   "cell_type": "code",
   "execution_count": 112,
   "id": "fe50b4aa-72f6-4b0b-8273-581a85073ad4",
   "metadata": {
    "tags": []
   },
   "outputs": [
    {
     "data": {
      "text/plain": [
       "<bound method NDFrame.head of         id  frame          z           y           x\n",
       "0        0      0   5.566386  429.390531  230.101984\n",
       "1        1      0   6.547100   76.202057  235.886494\n",
       "2        2      0   6.421198   82.096383  195.482427\n",
       "3        3      0   6.536889  213.484213  190.427630\n",
       "4        4      0   6.335207  318.412897  236.763296\n",
       "...    ...    ...        ...         ...         ...\n",
       "2733  2733     16  68.545148  405.108108  307.046694\n",
       "2734  2734     16  69.486675   41.750127   33.530489\n",
       "2735  2735     16  69.515503  183.975807   75.799032\n",
       "2736  2736     16  68.579142  449.058585  157.859133\n",
       "2737  2737     16  69.444450  341.088988  193.760899\n",
       "\n",
       "[2738 rows x 5 columns]>"
      ]
     },
     "execution_count": 112,
     "metadata": {},
     "output_type": "execute_result"
    }
   ],
   "source": [
    "batch_track_reorg.head"
   ]
  },
  {
   "cell_type": "code",
   "execution_count": 113,
   "id": "96dcd258-729f-4ad6-bec2-d4e83cc1bba5",
   "metadata": {
    "tags": []
   },
   "outputs": [
    {
     "name": "stdout",
     "output_type": "stream",
     "text": [
      "Frame 16: 195 trajectories present.\n"
     ]
    }
   ],
   "source": [
    "t = tp.link(batch_track_reorg,search_range=(5,15,15),memory=5)"
   ]
  },
  {
   "cell_type": "code",
   "execution_count": 114,
   "id": "5e651963-a275-4c06-89ab-ab9f00710019",
   "metadata": {
    "tags": []
   },
   "outputs": [
    {
     "data": {
      "text/html": [
       "<div>\n",
       "<style scoped>\n",
       "    .dataframe tbody tr th:only-of-type {\n",
       "        vertical-align: middle;\n",
       "    }\n",
       "\n",
       "    .dataframe tbody tr th {\n",
       "        vertical-align: top;\n",
       "    }\n",
       "\n",
       "    .dataframe thead th {\n",
       "        text-align: right;\n",
       "    }\n",
       "</style>\n",
       "<table border=\"1\" class=\"dataframe\">\n",
       "  <thead>\n",
       "    <tr style=\"text-align: right;\">\n",
       "      <th></th>\n",
       "      <th>id</th>\n",
       "      <th>frame</th>\n",
       "      <th>z</th>\n",
       "      <th>y</th>\n",
       "      <th>x</th>\n",
       "      <th>particle</th>\n",
       "    </tr>\n",
       "  </thead>\n",
       "  <tbody>\n",
       "    <tr>\n",
       "      <th>0</th>\n",
       "      <td>0</td>\n",
       "      <td>0</td>\n",
       "      <td>5.566386</td>\n",
       "      <td>429.390531</td>\n",
       "      <td>230.101984</td>\n",
       "      <td>0</td>\n",
       "    </tr>\n",
       "    <tr>\n",
       "      <th>99</th>\n",
       "      <td>99</td>\n",
       "      <td>0</td>\n",
       "      <td>47.053657</td>\n",
       "      <td>132.628196</td>\n",
       "      <td>202.116701</td>\n",
       "      <td>1</td>\n",
       "    </tr>\n",
       "    <tr>\n",
       "      <th>100</th>\n",
       "      <td>100</td>\n",
       "      <td>0</td>\n",
       "      <td>46.975020</td>\n",
       "      <td>210.041930</td>\n",
       "      <td>222.738276</td>\n",
       "      <td>2</td>\n",
       "    </tr>\n",
       "    <tr>\n",
       "      <th>101</th>\n",
       "      <td>101</td>\n",
       "      <td>0</td>\n",
       "      <td>47.447811</td>\n",
       "      <td>278.688734</td>\n",
       "      <td>58.160233</td>\n",
       "      <td>3</td>\n",
       "    </tr>\n",
       "    <tr>\n",
       "      <th>102</th>\n",
       "      <td>102</td>\n",
       "      <td>0</td>\n",
       "      <td>46.960472</td>\n",
       "      <td>305.678692</td>\n",
       "      <td>133.209679</td>\n",
       "      <td>4</td>\n",
       "    </tr>\n",
       "  </tbody>\n",
       "</table>\n",
       "</div>"
      ],
      "text/plain": [
       "      id  frame          z           y           x  particle\n",
       "0      0      0   5.566386  429.390531  230.101984         0\n",
       "99    99      0  47.053657  132.628196  202.116701         1\n",
       "100  100      0  46.975020  210.041930  222.738276         2\n",
       "101  101      0  47.447811  278.688734   58.160233         3\n",
       "102  102      0  46.960472  305.678692  133.209679         4"
      ]
     },
     "execution_count": 114,
     "metadata": {},
     "output_type": "execute_result"
    }
   ],
   "source": [
    "t.head()"
   ]
  },
  {
   "cell_type": "code",
   "execution_count": 115,
   "id": "0a4726fa-601a-4d93-8024-5f8a31e65221",
   "metadata": {
    "tags": []
   },
   "outputs": [],
   "source": [
    "t_filter=tp.filter_stubs(t,4)"
   ]
  },
  {
   "cell_type": "code",
   "execution_count": 116,
   "id": "9ef6af32-fa92-4197-ba30-de13e82a5cf3",
   "metadata": {
    "tags": []
   },
   "outputs": [
    {
     "data": {
      "text/plain": [
       "Index(['id', 'frame', 'z', 'y', 'x', 'particle'], dtype='object')"
      ]
     },
     "execution_count": 116,
     "metadata": {},
     "output_type": "execute_result"
    }
   ],
   "source": [
    "t_filter.columns"
   ]
  },
  {
   "cell_type": "code",
   "execution_count": 117,
   "id": "1787741c-852f-462c-8fbb-e2d995041572",
   "metadata": {
    "tags": []
   },
   "outputs": [],
   "source": [
    "t_filter_reorg = t_filter[['particle','frame','z','y','x']]"
   ]
  },
  {
   "cell_type": "code",
   "execution_count": 118,
   "id": "af8cf467-9eb2-4573-8da9-ddf10e817143",
   "metadata": {
    "tags": []
   },
   "outputs": [
    {
     "data": {
      "text/plain": [
       "<Tracks layer 'tracks_T' at 0x29d8df09af0>"
      ]
     },
     "execution_count": 118,
     "metadata": {},
     "output_type": "execute_result"
    }
   ],
   "source": [
    "viewer.add_tracks(t_filter_reorg,name='tracks_T')"
   ]
  },
  {
   "cell_type": "code",
   "execution_count": 119,
   "id": "25b1fd21-9e38-4be7-9a49-b1a5760a9a97",
   "metadata": {
    "tags": []
   },
   "outputs": [],
   "source": [
    "viewer.layers['tracks_T'].scale=[6,1,1]"
   ]
  },
  {
   "cell_type": "code",
   "execution_count": 124,
   "id": "3e941b07-fd35-468c-8c3c-e9287f2561e5",
   "metadata": {},
   "outputs": [
    {
     "data": {
      "image/png": "[encoded data removed]",
      "text/plain": [
       "<Figure size 640x480 with 1 Axes>"
      ]
     },
     "metadata": {},
     "output_type": "display_data"
    }
   ],
   "source": [
    "track_vector=tp.plot_displacements(t_filter,1,10,pos_columns=['y','x'])"
   ]
  },
  {
   "cell_type": "code",
   "execution_count": null,
   "id": "220bd40d-a767-46b8-8952-0d73729ed1d3",
   "metadata": {},
   "outputs": [],
   "source": []
  }
 ],
 "metadata": {
  "kernelspec": {
   "display_name": "Python 3 (ipykernel)",
   "language": "python",
   "name": "python3"
  },
  "language_info": {
   "codemirror_mode": {
    "name": "ipython",
    "version": 3
   },
   "file_extension": ".py",
   "mimetype": "text/x-python",
   "name": "python",
   "nbconvert_exporter": "python",
   "pygments_lexer": "ipython3",
   "version": "3.9.19"
  }
 },
 "nbformat": 4,
 "nbformat_minor": 5
}
