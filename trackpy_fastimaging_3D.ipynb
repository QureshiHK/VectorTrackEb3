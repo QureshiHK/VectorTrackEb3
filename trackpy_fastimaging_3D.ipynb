{
 "cells": [
  {
   "cell_type": "code",
   "execution_count": 1,
   "id": "8a0b9b5e-54d5-4ff9-a199-c7872682d61f",
   "metadata": {
    "tags": []
   },
   "outputs": [],
   "source": [
    "from skimage import io, data\n",
    "from skimage import filters, measure\n",
    "import napari\n",
    "from scipy import ndimage as ndi\n",
    "import numpy as np\n",
    "from PIL import Image\n",
    "from aicsimageio import AICSImage\n",
    "import trackpy as tp\n",
    "import pandas as pd\n",
    "import matplotlib as mpl\n",
    "import matplotlib.pyplot as plt\n",
    "from napari_bleach_correct.modules.exponential import exponential_correct"
   ]
  },
  {
   "cell_type": "code",
   "execution_count": 2,
   "id": "b57f97f2-da2a-4fde-bfa1-1c63b4870cd2",
   "metadata": {
    "tags": []
   },
   "outputs": [],
   "source": [
    "viewer = napari.Viewer(title='t3D_trackpy_mitosis')"
   ]
  },
  {
   "cell_type": "code",
   "execution_count": 15,
   "id": "c40eac3c-e8bc-4db3-b503-bdf88af22cc1",
   "metadata": {
    "tags": []
   },
   "outputs": [
    {
     "name": "stdin",
     "output_type": "stream",
     "text": [
      "verbose output? Y/N :  n\n"
     ]
    }
   ],
   "source": [
    "def verbose_chk():\n",
    "    verbose_check = input('verbose output? Y/N : ')\n",
    "    return verbose_check\n",
    "\n",
    "def isverbose(readout,verbose_check):\n",
    "    if verbose_check.upper()=='Y':\n",
    "        output = readout\n",
    "    else:\n",
    "        output = None\n",
    "    return output\n",
    "    \n",
    "vb_chk = verbose_chk()"
   ]
  },
  {
   "cell_type": "code",
   "execution_count": 16,
   "id": "63becdd2-bb2f-486e-8b27-73fd42347e9c",
   "metadata": {
    "tags": []
   },
   "outputs": [],
   "source": [
    "fluorIm_import = AICSImage('C:/Users/Matlab/Documents/haseeb_napari/AS2/eb3_sib_mitosis_30-5C-01-Airyscan Processing-02.czi')\n",
    "isverbose(fluorIm_import.shape, vb_chk)"
   ]
  },
  {
   "cell_type": "code",
   "execution_count": 17,
   "id": "c76723d8-0592-4fb9-8711-370a14d9fb5a",
   "metadata": {
    "tags": []
   },
   "outputs": [],
   "source": [
    "fluorIm_ch1 = fluorIm_import.data[:,0,:,:,:]\n",
    "\n"
   ]
  },
  {
   "cell_type": "raw",
   "id": "de62c820-7432-4fec-a507-64af3cbfdaa8",
   "metadata": {
    "tags": []
   },
   "source": [
    "#### extract min/max intensities from image matrix to establish contrast limits for exponential debleaching"
   ]
  },
  {
   "cell_type": "code",
   "execution_count": 19,
   "id": "2fd8fb6f-5b23-49a4-bc03-1eac6a93b3fb",
   "metadata": {
    "tags": []
   },
   "outputs": [],
   "source": [
    "isverbose(('max intensity = {}   min intensity = {}'.format(fluorIm_ch1.max(), fluorIm_ch1.min())),vb_chk) #inspect min/max intensities from image matrix to establish contrast limits for exponential debleaching"
   ]
  },
  {
   "cell_type": "code",
   "execution_count": 20,
   "id": "879f6d32-b570-425d-a901-28cae347a6dd",
   "metadata": {
    "tags": []
   },
   "outputs": [],
   "source": [
    "im_layer_name='eb3-GFP'\n",
    "exp_name='_exponential_debleach'\n",
    "debleach_name=im_layer_name+exp_name"
   ]
  },
  {
   "cell_type": "code",
   "execution_count": 21,
   "id": "a4c7bc7d-fc34-4311-94b4-fb99ea4c6844",
   "metadata": {
    "tags": []
   },
   "outputs": [],
   "source": [
    "viewer.add_image(fluorIm_ch1, name=im_layer_name,colormap='green',blending='additive')\n",
    "viewer.layers[im_layer_name].scale=[6,1,1]"
   ]
  },
  {
   "cell_type": "markdown",
   "id": "d62c152d-4f08-4495-b1ae-a32e81da8a03",
   "metadata": {},
   "source": [
    "# DEBLEACHING"
   ]
  },
  {
   "cell_type": "code",
   "execution_count": 23,
   "id": "a67268df-04aa-454e-ad5c-5d0f1987a942",
   "metadata": {
    "tags": []
   },
   "outputs": [
    {
     "name": "stderr",
     "output_type": "stream",
     "text": [
      "INFO:napari_bleach_correct.modules.exponential:R-squared value for fitting a bi-exponential curve: 0.9995221494568346\n"
     ]
    }
   ],
   "source": [
    "expon = exponential_correct(fluorIm_ch1,contrast_limits=[fluorIm_ch1.min(),fluorIm_ch1.max()],method='bi') #### run napari-bleach-correct module on eb3-GFP layer, using exponential curve method"
   ]
  },
  {
   "cell_type": "code",
   "execution_count": 24,
   "id": "38bab6b9-379b-453b-afe4-a0fa4e51d28d",
   "metadata": {
    "tags": []
   },
   "outputs": [],
   "source": [
    "viewer.add_image(expon, name=debleach_name,colormap='green',blending='additive')\n",
    "viewer.layers[debleach_name].scale=[6,1,1]"
   ]
  },
  {
   "cell_type": "code",
   "execution_count": 25,
   "id": "e6bb4176-3cf9-4891-a056-6292c5f3454e",
   "metadata": {
    "tags": []
   },
   "outputs": [],
   "source": [
    "viewer.layers[debleach_name].scale=[6,1,1]"
   ]
  },
  {
   "cell_type": "code",
   "execution_count": 26,
   "id": "fc5c85a7-7a2a-4068-ba82-511302cc0349",
   "metadata": {
    "tags": []
   },
   "outputs": [],
   "source": [
    "max_z_fast = viewer.layers[debleach_name].data"
   ]
  },
  {
   "cell_type": "markdown",
   "id": "d40177f6-5fb3-46ac-9c73-ca4cba6e4e80",
   "metadata": {},
   "source": [
    "# SEGMENTATION"
   ]
  },
  {
   "cell_type": "code",
   "execution_count": 27,
   "id": "87812153-48f2-4610-8160-b988f6f29792",
   "metadata": {
    "tags": []
   },
   "outputs": [
    {
     "name": "stdout",
     "output_type": "stream",
     "text": [
      "Frame 59: 192 features\n"
     ]
    }
   ],
   "source": [
    "batch_track = tp.batch(max_z_fast[:60],diameter=(5,51,51), minmass=10000, separation=(3,21,21), noise_size=(2,3,3), percentile=15) #segmentation code, modify params here for comet detection"
   ]
  },
  {
   "cell_type": "code",
   "execution_count": 29,
   "id": "b87c53c1-9ed6-462e-9395-fdb81f9f4e0f",
   "metadata": {
    "tags": []
   },
   "outputs": [],
   "source": [
    "#batch_track.head\n",
    "isverbose(batch_track.head, vb_chk)"
   ]
  },
  {
   "cell_type": "code",
   "execution_count": 30,
   "id": "d1c0366a-2d21-48ae-8e09-b63cf5080a5c",
   "metadata": {
    "tags": []
   },
   "outputs": [],
   "source": [
    "batch_track2 = batch_track.dropna(axis=1,how='all') #ecc field seems to be returning NaN sometimes, so just in case it does we discard it.\n",
    "isverbose(batch_track2.head,vb_chk)"
   ]
  },
  {
   "cell_type": "code",
   "execution_count": 31,
   "id": "f97519d1-e85f-4fea-b6e5-f0125e32233d",
   "metadata": {
    "tags": []
   },
   "outputs": [],
   "source": [
    "batch_track3=batch_track2.dropna(axis=0) #once ecc field is dropped we can remove individual rows yielding NaN. dropna will just discard most of the table if we try to do this in one line, as axis=0 will discard everything while ecc is still in (if it is displaying NaN)\n",
    "isverbose(batch_track3.head,vb_chk)"
   ]
  },
  {
   "cell_type": "code",
   "execution_count": 32,
   "id": "6f84118d-e223-4c17-9a81-6cc1f2b20003",
   "metadata": {
    "tags": []
   },
   "outputs": [
    {
     "name": "stderr",
     "output_type": "stream",
     "text": [
      "C:\\Users\\Matlab\\miniconda3\\envs\\naparidevbio\\lib\\site-packages\\trackpy\\plots.py:638: FutureWarning: DataFrame.applymap has been deprecated. Use DataFrame.map instead.\n",
      "  axlist = f[pos_columns].applymap(lambda x: x % 1).hist()\n"
     ]
    },
    {
     "data": {
      "text/plain": [
       "array([[<Axes: title={'center': 'x'}>, <Axes: title={'center': 'y'}>],\n",
       "       [<Axes: title={'center': 'z'}>, <Axes: >]], dtype=object)"
      ]
     },
     "execution_count": 32,
     "metadata": {},
     "output_type": "execute_result"
    },
    {
     "data": {
      "image/png": "[encoded data removed]",
      "text/plain": [
       "<Figure size 640x480 with 4 Axes>"
      ]
     },
     "metadata": {},
     "output_type": "display_data"
    }
   ],
   "source": [
    "tp.subpx_bias(batch_track)"
   ]
  },
  {
   "cell_type": "code",
   "execution_count": 33,
   "id": "c26a9000-087f-435d-b129-974cfd5715db",
   "metadata": {
    "tags": []
   },
   "outputs": [
    {
     "data": {
      "text/plain": [
       "(array([6.339e+03, 1.320e+02, 1.160e+02, 2.480e+02, 3.100e+02, 2.290e+02,\n",
       "        1.800e+02, 2.220e+02, 2.340e+02, 2.220e+02, 1.250e+02, 1.860e+02,\n",
       "        1.260e+02, 9.300e+01, 7.200e+01, 4.100e+01, 6.000e+00, 0.000e+00,\n",
       "        1.000e+00, 3.000e+00]),\n",
       " array([  127516. ,  1245315.3,  2363114.6,  3480913.9,  4598713.2,\n",
       "         5716512.5,  6834311.8,  7952111.1,  9069910.4, 10187709.7,\n",
       "        11305509. , 12423308.3, 13541107.6, 14658906.9, 15776706.2,\n",
       "        16894505.5, 18012304.8, 19130104.1, 20247903.4, 21365702.7,\n",
       "        22483502. ]),\n",
       " <BarContainer object of 20 artists>)"
      ]
     },
     "execution_count": 33,
     "metadata": {},
     "output_type": "execute_result"
    },
    {
     "data": {
      "image/png": "[encoded data removed]",
      "text/plain": [
       "<Figure size 640x480 with 1 Axes>"
      ]
     },
     "metadata": {},
     "output_type": "display_data"
    }
   ],
   "source": [
    "fig,ax=plt.subplots()\n",
    "ax.hist(batch_track3['raw_mass'], bins=20)"
   ]
  },
  {
   "cell_type": "code",
   "execution_count": 34,
   "id": "dfb8c422-55be-4a11-a4c1-6ff66a128cb6",
   "metadata": {
    "tags": []
   },
   "outputs": [],
   "source": [
    "isverbose(batch_track3.columns,vb_chk) #inspecting reworked dataframe with NaN;s removed. Most columns should still be here."
   ]
  },
  {
   "cell_type": "code",
   "execution_count": 35,
   "id": "6cf33e24-3b18-48e7-a336-8f5827374f0a",
   "metadata": {
    "tags": []
   },
   "outputs": [
    {
     "name": "stderr",
     "output_type": "stream",
     "text": [
      "C:\\Users\\Matlab\\AppData\\Local\\Temp\\ipykernel_28784\\1072258347.py:1: SettingWithCopyWarning: \n",
      "A value is trying to be set on a copy of a slice from a DataFrame.\n",
      "Try using .loc[row_indexer,col_indexer] = value instead\n",
      "\n",
      "See the caveats in the documentation: https://pandas.pydata.org/pandas-docs/stable/user_guide/indexing.html#returning-a-view-versus-a-copy\n",
      "  batch_track3['id'] = np.arange(0,len(batch_track3))\n"
     ]
    }
   ],
   "source": [
    "batch_track3['id'] = np.arange(0,len(batch_track3))"
   ]
  },
  {
   "cell_type": "code",
   "execution_count": 36,
   "id": "88fc59f9-ab7f-44a3-a6c9-ff892a7533ec",
   "metadata": {
    "tags": []
   },
   "outputs": [],
   "source": [
    "batch_track_reorg=batch_track3[[\"id\",\"frame\",\"z\",\"y\",\"x\"]]"
   ]
  },
  {
   "cell_type": "code",
   "execution_count": 37,
   "id": "fe50b4aa-72f6-4b0b-8273-581a85073ad4",
   "metadata": {
    "tags": []
   },
   "outputs": [],
   "source": [
    "isverbose(batch_track_reorg.head,vb_chk)"
   ]
  },
  {
   "cell_type": "markdown",
   "id": "8866e835-f916-4a4d-89ee-d868b2ceae11",
   "metadata": {},
   "source": [
    "# TRACKING"
   ]
  },
  {
   "cell_type": "code",
   "execution_count": 38,
   "id": "96dcd258-729f-4ad6-bec2-d4e83cc1bba5",
   "metadata": {
    "tags": []
   },
   "outputs": [
    {
     "name": "stdout",
     "output_type": "stream",
     "text": [
      "Frame 59: 176 trajectories present.\n"
     ]
    }
   ],
   "source": [
    "trax = tp.link(batch_track_reorg,search_range=(3,17,17),memory=5) #increasing the range and memory can help produce more positive tracks, especially in the x,y axes where the resolution is quite high. This repersents the radius within which to look for the next hit in the track."
   ]
  },
  {
   "cell_type": "code",
   "execution_count": 39,
   "id": "5e651963-a275-4c06-89ab-ab9f00710019",
   "metadata": {
    "tags": []
   },
   "outputs": [],
   "source": [
    "isverbose(trax.head,vb_chk)"
   ]
  },
  {
   "cell_type": "code",
   "execution_count": 41,
   "id": "0a4726fa-601a-4d93-8024-5f8a31e65221",
   "metadata": {
    "tags": []
   },
   "outputs": [],
   "source": [
    "trax_filter=tp.filter_stubs(trax,4)\n",
    "isverbose(trax_filter.columns,vb_chk)"
   ]
  },
  {
   "cell_type": "code",
   "execution_count": 42,
   "id": "1787741c-852f-462c-8fbb-e2d995041572",
   "metadata": {
    "tags": []
   },
   "outputs": [],
   "source": [
    "trax_filter_reorg = trax_filter[['particle','frame','z','y','x']]"
   ]
  },
  {
   "cell_type": "code",
   "execution_count": 43,
   "id": "af8cf467-9eb2-4573-8da9-ddf10e817143",
   "metadata": {
    "tags": []
   },
   "outputs": [],
   "source": [
    "viewer.add_tracks(trax_filter_reorg,name='tracks_T')\n",
    "viewer.layers['tracks_T'].scale=[6,1,1]"
   ]
  },
  {
   "cell_type": "markdown",
   "id": "0cc19cba-0aac-447b-8ddc-aab2a3d52d8e",
   "metadata": {},
   "source": [
    "# VECTOR GENERATION"
   ]
  },
  {
   "cell_type": "code",
   "execution_count": 44,
   "id": "3e941b07-fd35-468c-8c3c-e9287f2561e5",
   "metadata": {
    "tags": []
   },
   "outputs": [
    {
     "data": {
      "image/png": "[encoded data removed]",
      "text/plain": [
       "<Figure size 640x480 with 1 Axes>"
      ]
     },
     "metadata": {},
     "output_type": "display_data"
    }
   ],
   "source": [
    "track_vector=tp.plot_displacements(trax_filter,1,10,pos_columns=['y','x'])"
   ]
  },
  {
   "cell_type": "code",
   "execution_count": 45,
   "id": "c3f316b5-ad9c-4c96-8e94-8258521c4fad",
   "metadata": {
    "tags": []
   },
   "outputs": [],
   "source": [
    "#t_filter.to_csv('plot_tracks.csv')\n",
    "#print(t_filter)\n",
    "#t_filter[:2]"
   ]
  },
  {
   "cell_type": "code",
   "execution_count": 47,
   "id": "540a9657-dd8b-41da-89df-b83ce58c3007",
   "metadata": {
    "tags": []
   },
   "outputs": [],
   "source": [
    "firstgrouped_tfilter = trax_filter.groupby(\"particle\").first()\n",
    "isverbose(firstgrouped_tfilter.head,vb_chk)"
   ]
  },
  {
   "cell_type": "code",
   "execution_count": 116,
   "id": "64689728-0a7a-46a0-a203-cfb1e456f5a0",
   "metadata": {
    "tags": []
   },
   "outputs": [],
   "source": [
    "#firstgrouped_tfilter.to_csv('firstinstance_grouped_tracks.csv') #writing df to csv to inspect how the df is organised. Dev auditing step, not a necessary step for function."
   ]
  },
  {
   "cell_type": "code",
   "execution_count": 48,
   "id": "f8164ec4-ebc9-4177-86ad-4b0c6dc5ad44",
   "metadata": {
    "tags": []
   },
   "outputs": [],
   "source": [
    "lastgrouped_tfilter = trax_filter.groupby(\"particle\").last()\n",
    "isverbose(lastgrouped_tfilter.head,vb_chk)"
   ]
  },
  {
   "cell_type": "code",
   "execution_count": 49,
   "id": "87bb297c-89e4-4b32-9540-e077d9f060e8",
   "metadata": {
    "tags": []
   },
   "outputs": [],
   "source": [
    "#lastgrouped_tfilter.to_csv('lastinstance_grouped_tracks.csv') #writing df to csv to inspect how the df is organised. Dev auditing step, not a necessary step for function."
   ]
  },
  {
   "cell_type": "code",
   "execution_count": 50,
   "id": "4cf40338-18ea-456c-96fb-781b255fdc36",
   "metadata": {
    "tags": []
   },
   "outputs": [],
   "source": [
    "#len(lastgrouped_tfilter)\n",
    "#lastgrouped_tfilter.iloc[3]['z'] #testing iloc in this table"
   ]
  },
  {
   "cell_type": "code",
   "execution_count": 51,
   "id": "9f120972-37a1-48bb-95be-109eab8b1526",
   "metadata": {
    "tags": []
   },
   "outputs": [
    {
     "data": {
      "text/plain": [
       "\"\\nvector_start_solo = np.array([firstgrouped_tfilter.iloc[3]['z'],firstgrouped_tfilter.iloc[3]['y'],firstgrouped_tfilter.iloc[3]['x']])\\nvector_end_solo = np.array([lastgrouped_tfilter.iloc[3]['z'],lastgrouped_tfilter.iloc[3]['y'],lastgrouped_tfilter.iloc[3]['x']])\\n\\n#trying vector projection calculation (linear algebra). This isn't what napari means by 'projecting' your vector.\\nvector_norm_test = np.sqrt(sum(vector_end_solo**2))\\nvector_projection_test = (np.dot(vector_start_solo,vector_end_solo)/vector_norm_test**2)*vector_end_solo\\nvector_proj_test = vector_start_solo - vector_projection_test\\ntest_vector=[vector_start_solo,vector_proj_test]\\n##\\n\\nvector_dir = vector_end_solo-vector_start_solo\\ntest_vector_dir=[vector_start_solo,vector_dir] #the vector projeection is just the direction vector\\ntest_vector\\n\""
      ]
     },
     "execution_count": 51,
     "metadata": {},
     "output_type": "execute_result"
    }
   ],
   "source": [
    "'''\n",
    "vector_start_solo = np.array([firstgrouped_tfilter.iloc[3]['z'],firstgrouped_tfilter.iloc[3]['y'],firstgrouped_tfilter.iloc[3]['x']])\n",
    "vector_end_solo = np.array([lastgrouped_tfilter.iloc[3]['z'],lastgrouped_tfilter.iloc[3]['y'],lastgrouped_tfilter.iloc[3]['x']])\n",
    "\n",
    "#trying vector projection calculation (linear algebra). This isn't what napari means by 'projecting' your vector.\n",
    "vector_norm_test = np.sqrt(sum(vector_end_solo**2))\n",
    "vector_projection_test = (np.dot(vector_start_solo,vector_end_solo)/vector_norm_test**2)*vector_end_solo\n",
    "vector_proj_test = vector_start_solo - vector_projection_test\n",
    "test_vector=[vector_start_solo,vector_proj_test]\n",
    "##\n",
    "\n",
    "vector_dir = vector_end_solo-vector_start_solo\n",
    "test_vector_dir=[vector_start_solo,vector_dir] #the vector projeection is just the direction vector\n",
    "test_vector\n",
    "'''"
   ]
  },
  {
   "cell_type": "code",
   "execution_count": 52,
   "id": "8fea3e7f-3ca2-4f16-ab65-c7889eb360bc",
   "metadata": {
    "tags": []
   },
   "outputs": [
    {
     "data": {
      "text/plain": [
       "\"\\nvectors_layer = viewer.add_vectors(test_vector_dir, edge_width=3,name='test_vector')\\nviewer.layers['test_vector'].scale=[6,1,1]\\n\""
      ]
     },
     "execution_count": 52,
     "metadata": {},
     "output_type": "execute_result"
    }
   ],
   "source": [
    "'''\n",
    "vectors_layer = viewer.add_vectors(test_vector_dir, edge_width=3,name='test_vector')\n",
    "viewer.layers['test_vector'].scale=[6,1,1]\n",
    "'''"
   ]
  },
  {
   "cell_type": "code",
   "execution_count": 53,
   "id": "b4d724d1-0bb8-46ff-96e4-4665c8ac3af9",
   "metadata": {
    "tags": []
   },
   "outputs": [],
   "source": [
    "vector_list=[]\n",
    "for a in range(0,len(lastgrouped_tfilter)-1):\n",
    "    vector_start = np.array([firstgrouped_tfilter.iloc[a]['z'],firstgrouped_tfilter.iloc[a]['y'],firstgrouped_tfilter.iloc[a]['x']])\n",
    "    vector_end = np.array([lastgrouped_tfilter.iloc[a]['z'],lastgrouped_tfilter.iloc[a]['y'],lastgrouped_tfilter.iloc[a]['x']]) #extract start and end point of vector to set up projection calculation\n",
    "    vector_direction = vector_end - vector_start\n",
    "\n",
    "    vector_total = [vector_start,vector_direction]\n",
    "    vector_list.append(vector_total)\n",
    "    "
   ]
  },
  {
   "cell_type": "code",
   "execution_count": 56,
   "id": "acd54681-8931-499f-81a7-aaf47c4722c4",
   "metadata": {
    "tags": []
   },
   "outputs": [],
   "source": [
    "vector_array=np.asarray(vector_list, dtype=np.float32)\n",
    "isverbose(vector_array.shape,vb_chk)"
   ]
  },
  {
   "cell_type": "code",
   "execution_count": 57,
   "id": "d2fb2cc8-c51f-4b96-b2e0-8bbb61311f05",
   "metadata": {
    "tags": []
   },
   "outputs": [],
   "source": [
    "isverbose(vector_array[:10],vb_chk)"
   ]
  },
  {
   "cell_type": "code",
   "execution_count": 58,
   "id": "78f3d017-c23e-4efd-b607-702ec4255f79",
   "metadata": {
    "tags": []
   },
   "outputs": [],
   "source": [
    "vectors_layer = viewer.add_vectors(vector_array, edge_width=3,name='vectors_layer')\n",
    "viewer.layers['vectors_layer'].scale=[6,1,1]"
   ]
  },
  {
   "cell_type": "markdown",
   "id": "f69b933b-7f1b-402e-ad84-6f91e16fc664",
   "metadata": {},
   "source": [
    "# VECTOR ANGLE CALCULATION"
   ]
  },
  {
   "cell_type": "code",
   "execution_count": 169,
   "id": "e48f7b3f-bf57-466c-ae74-a24e620418a7",
   "metadata": {
    "tags": []
   },
   "outputs": [],
   "source": [
    "#functions to compare vector angles. compare direction vectors.\n",
    "def unit_vector(vector):    #Returns the unit vector of the vector  \n",
    "    return vector / np.linalg.norm(vector)\n",
    "\n",
    "def angle_between(v1, v2): #Returns the angle in radians between vectors 'v1' and 'v2'\n",
    "\n",
    "    v1_u = unit_vector(v1)\n",
    "    v2_u = unit_vector(v2)\n",
    "    return np.arccos(np.clip(np.dot(v1_u, v2_u), -1.0, 1.0))"
   ]
  },
  {
   "cell_type": "markdown",
   "id": "ca086ce8-9145-4c25-985d-bfe05f741404",
   "metadata": {},
   "source": [
    "## Manually input points defining start and end of axis. \n",
    "start from apex"
   ]
  },
  {
   "cell_type": "code",
   "execution_count": 170,
   "id": "7665a248-8395-462a-a89b-e996fbda15b7",
   "metadata": {
    "tags": []
   },
   "outputs": [],
   "source": [
    "central_line=viewer.layers['Points'].data"
   ]
  },
  {
   "cell_type": "code",
   "execution_count": 171,
   "id": "008d5a88-be92-4d83-9c94-aa7ef86e55e7",
   "metadata": {
    "tags": []
   },
   "outputs": [],
   "source": [
    "central_line_3d=np.delete(central_line,0,axis=1)\n"
   ]
  },
  {
   "cell_type": "code",
   "execution_count": 172,
   "id": "cdd701e9-4649-4936-bafb-e462ac9fc128",
   "metadata": {
    "tags": []
   },
   "outputs": [
    {
     "data": {
      "text/plain": [
       "array([[ 60.        ,   9.        , 177.90539543, 285.78242795],\n",
       "       [ 60.        ,   9.        , 215.44901069, 134.27663303]])"
      ]
     },
     "execution_count": 172,
     "metadata": {},
     "output_type": "execute_result"
    }
   ],
   "source": [
    "isverbose(central_line,vb_chk)"
   ]
  },
  {
   "cell_type": "code",
   "execution_count": 173,
   "id": "093b5d56-61b7-41d7-be83-ca8b92b5a5e4",
   "metadata": {
    "tags": []
   },
   "outputs": [],
   "source": [
    "central_line_dir_vector=central_line_3d[0]-central_line_3d[1] #because I drew the points in 'reverse order' where I draw set the basal point as vector start, I've inverted how I usually calculate my direction vector. That way, we count clockwise from apical point (in this specific image, anyway. Always check thet order in which you lay down the central line points when doing it manually in napari."
   ]
  },
  {
   "cell_type": "code",
   "execution_count": 174,
   "id": "db989034-806b-4308-95f7-eaa53879c2e6",
   "metadata": {
    "tags": []
   },
   "outputs": [
    {
     "data": {
      "text/plain": [
       "0.5031094757774348"
      ]
     },
     "execution_count": 174,
     "metadata": {},
     "output_type": "execute_result"
    }
   ],
   "source": [
    "#check angle of earlier test vector (direction vector) against drawn in central line (points)\n",
    "\n",
    "angle_between(central_line_dir_vector,vector_dir)"
   ]
  },
  {
   "cell_type": "code",
   "execution_count": 175,
   "id": "076bae46-7cb8-42ac-9654-787e395e59d2",
   "metadata": {
    "tags": []
   },
   "outputs": [],
   "source": [
    "angles_from_central=[]\n",
    "for b in range(0,len(vector_array)-1):\n",
    "    track_vector_angle_dir=vector_array[:,1][b]\n",
    "    angle_from = angle_between(central_line_dir_vector,track_vector_angle_dir)\n",
    "    angles_from_central.append(angle_from)"
   ]
  },
  {
   "cell_type": "code",
   "execution_count": 111,
   "id": "1f89f50d-6ee4-412b-815c-e81d94e467ee",
   "metadata": {
    "tags": []
   },
   "outputs": [],
   "source": [
    "#create dataframe out of angles and export to csv\n",
    "export_angles_dataframe=pd.DataFrame(angles_from_central,columns=['angles'])\n",
    "export_angles_dataframe.to_csv('mitosis_vector_angles.csv')"
   ]
  },
  {
   "cell_type": "markdown",
   "id": "cab5152d-7378-40d6-a2e3-bf9425d931c3",
   "metadata": {},
   "source": [
    "appraising start and end point of random track"
   ]
  },
  {
   "cell_type": "code",
   "execution_count": 259,
   "id": "8884739d-2927-4471-875b-a610a3bc73b4",
   "metadata": {
    "tags": []
   },
   "outputs": [],
   "source": [
    "points = np.array([vector_start, vector_end])\n",
    "\n"
   ]
  },
  {
   "cell_type": "code",
   "execution_count": 185,
   "id": "abfb7b25-838c-4cce-aa5d-9352c1629345",
   "metadata": {
    "tags": []
   },
   "outputs": [],
   "source": [
    "points_layer = viewer.add_points(points, size=30)"
   ]
  },
  {
   "cell_type": "code",
   "execution_count": 186,
   "id": "dc46b7ae-c1a7-4791-a2ce-ab150f2fe1b8",
   "metadata": {
    "tags": []
   },
   "outputs": [],
   "source": [
    "viewer.layers['points'].scale=[6,1,1]"
   ]
  },
  {
   "cell_type": "code",
   "execution_count": 272,
   "id": "cb52ad7c-ae20-45b9-b148-7d2cee167924",
   "metadata": {
    "tags": []
   },
   "outputs": [
    {
     "data": {
      "text/plain": [
       "array([0.9133985, 5.305469 , 4.896562 ], dtype=float32)"
      ]
     },
     "execution_count": 272,
     "metadata": {},
     "output_type": "execute_result"
    }
   ],
   "source": [
    "vector_array[:,1][0]"
   ]
  },
  {
   "cell_type": "code",
   "execution_count": null,
   "id": "b70e927c-9bc3-48d7-8afe-12f5055d2b85",
   "metadata": {},
   "outputs": [],
   "source": []
  }
 ],
 "metadata": {
  "kernelspec": {
   "display_name": "Python 3 (ipykernel)",
   "language": "python",
   "name": "python3"
  },
  "language_info": {
   "codemirror_mode": {
    "name": "ipython",
    "version": 3
   },
   "file_extension": ".py",
   "mimetype": "text/x-python",
   "name": "python",
   "nbconvert_exporter": "python",
   "pygments_lexer": "ipython3",
   "version": "3.9.18"
  }
 },
 "nbformat": 4,
 "nbformat_minor": 5
}
