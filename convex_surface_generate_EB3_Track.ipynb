{
 "cells": [
  {
   "cell_type": "markdown",
   "id": "8646d4a3-e4c9-4f63-b0ed-f9bdb6f02375",
   "metadata": {},
   "source": [
    "### Integrated the convex hull generator from points program with the tracking program. Allows isolation of an individual cell (or region) and tracking within it. Parameters will still need modifiying on a case by case basis."
   ]
  },
  {
   "cell_type": "markdown",
   "id": "7a4ad005-0c69-47f9-bf64-cef67db5699e",
   "metadata": {},
   "source": [
    "## tidied up version of convex mesh generation code"
   ]
  },
  {
   "cell_type": "code",
   "execution_count": 1,
   "id": "8a0b9b5e-54d5-4ff9-a199-c7872682d61f",
   "metadata": {
    "tags": []
   },
   "outputs": [],
   "source": [
    "from skimage import io, data\n",
    "from skimage import filters, measure\n",
    "import napari\n",
    "from scipy import ndimage as ndi\n",
    "import numpy as np\n",
    "from PIL import Image\n",
    "from aicsimageio import AICSImage, imread\n",
    "import copy\n",
    "import cv2\n",
    "from scipy.spatial import ConvexHull, Delaunay\n",
    "import trackpy as tp\n",
    "import pandas as pd\n",
    "import matplotlib as mpl\n",
    "import matplotlib.pyplot as plt\n",
    "import matplotlib.path as p\n",
    "from napari_bleach_correct.modules.exponential import exponential_correct #this must be obtained via downloadin/installing the napari plugin for the napari bleack correct module\n"
   ]
  },
  {
   "cell_type": "code",
   "execution_count": 2,
   "id": "b57f97f2-da2a-4fde-bfa1-1c63b4870cd2",
   "metadata": {
    "tags": []
   },
   "outputs": [
    {
     "name": "stderr",
     "output_type": "stream",
     "text": [
      "C:\\Users\\hkqur\\miniconda3\\envs\\devbio_2\\lib\\site-packages\\networkx\\utils\\backends.py:135: RuntimeWarning: networkx backend defined more than once: nx-loopback\n",
      "  backends.update(_get_backends(\"networkx.backends\"))\n"
     ]
    }
   ],
   "source": [
    "viewer = napari.Viewer(title='fast_image_convex_1')"
   ]
  },
  {
   "cell_type": "code",
   "execution_count": 4,
   "id": "5688073f-ec96-4936-b6c9-9d25dd5ce4c4",
   "metadata": {},
   "outputs": [
    {
     "name": "stdin",
     "output_type": "stream",
     "text": [
      "verbose output? Y/N :  y\n"
     ]
    }
   ],
   "source": [
    "### functions to provide a verbose output. can help to inspect outputs when refining paramaeters or debugging. Sometimes you don't wanto clutter in your notebook output so can turn off outputs.\n",
    "\n",
    "def verbose_chk():\n",
    "    verbose_check = input('verbose output? Y/N : ')\n",
    "    return verbose_check\n",
    "\n",
    "def isverbose(readout,verbose_check):\n",
    "    if verbose_check.upper()=='Y':\n",
    "        output = readout\n",
    "    else:\n",
    "        output = None\n",
    "    return output\n",
    "    \n",
    "vb_chk = verbose_chk()"
   ]
  },
  {
   "cell_type": "code",
   "execution_count": 5,
   "id": "15306e7c-847f-42b4-90b0-7912e0e65e2d",
   "metadata": {},
   "outputs": [],
   "source": [
    "image_1_name=str('i_ch1')\n",
    "layer_1_name=image_1_name\n",
    "image_2_name=str('i_ch2')\n",
    "layer_2_name=image_2_name\n",
    "file_dir = str('C:/Users/hkqur/Documents/napari/')\n",
    "file_path=str('C:/Users/hkqur/Documents/napari/eb3_fast/eb3_nonID-31C_emb3_fast-image_postprojemerg-01-Airyscan Processing-08.czi')"
   ]
  },
  {
   "cell_type": "code",
   "execution_count": 6,
   "id": "63becdd2-bb2f-486e-8b27-73fd42347e9c",
   "metadata": {
    "tags": []
   },
   "outputs": [
    {
     "name": "stdout",
     "output_type": "stream",
     "text": [
      "(32, 1, 78, 588, 332)\n"
     ]
    }
   ],
   "source": [
    "image_i = AICSImage(file_path)\n",
    "print(image_i.shape)"
   ]
  },
  {
   "cell_type": "code",
   "execution_count": 7,
   "id": "c76723d8-0592-4fb9-8711-370a14d9fb5a",
   "metadata": {
    "tags": []
   },
   "outputs": [],
   "source": [
    "i_ch1 = image_i.data[:,0,:,:]\n",
    "#i_ch2 = image_i.data[:,1,:,:]\n"
   ]
  },
  {
   "cell_type": "code",
   "execution_count": 8,
   "id": "a4c7bc7d-fc34-4311-94b4-fb99ea4c6844",
   "metadata": {
    "tags": []
   },
   "outputs": [],
   "source": [
    "viewer.add_image(i_ch1, name='i_ch1',colormap='magenta',blending='additive')\n",
    "viewer.layers['i_ch1'].scale=[3,1,1]\n",
    "\n",
    "#viewer.add_image(i_ch2, name='i_ch2',colormap='green',blending='additive')\n",
    "#viewer.layers['i_ch2'].scale=[6,1,1]\n"
   ]
  },
  {
   "cell_type": "markdown",
   "id": "ac8c83b9-6f2b-4b28-848e-ce72a76b6b1b",
   "metadata": {},
   "source": [
    "to add here, integrate my image rotation program here so the image can be positioned such that the Apicobasal plane is aligned such that apical faces 'up' in the image viewer. Currently, the program assumes the image is already in the right position. It assumes the apicobasal axis is aligned with the x/y axis. I have already partially generated the code for image rotation to address this, just need to finish it and integrate it."
   ]
  },
  {
   "cell_type": "markdown",
   "id": "fe85b0ae-7809-4c8c-b0d4-0f1b20ac50fd",
   "metadata": {},
   "source": [
    "### convex hull generation"
   ]
  },
  {
   "cell_type": "code",
   "execution_count": 9,
   "id": "3786d19d-1c33-4ede-b3cc-30986129181c",
   "metadata": {},
   "outputs": [
    {
     "name": "stdout",
     "output_type": "stream",
     "text": [
      "[38.0, 344.3195870353251, 112.92805147084317]\n",
      "[38.0, 333.1042322846078, 78.58102754677134]\n",
      "[38.0, 315.5802404866119, 63.860874436454765]\n",
      "[38.0, 292.4485713132574, 58.2531970610961]\n",
      "[38.0, 277.027458531021, 68.76759213989362]\n",
      "[38.0, 267.21402312414335, 103.11461606396551]\n",
      "[38.0, 257.4005877172657, 129.05012392499935]\n",
      "[38.0, 249.69003132614748, 159.89234948947205]\n",
      "[38.0, 258.80250706110536, 177.41634128746796]\n",
      "[38.0, 274.92457951526154, 194.23937341354394]\n",
      "[38.0, 293.14953098517725, 201.24897013274233]\n",
      "[38.0, 309.97256311125324, 201.94992980466213]\n",
      "[38.0, 324.69271622156975, 183.02401866282662]\n",
      "[38.0, 335.2071113003673, 161.29426883331178]\n",
      "[38.0, 341.5157483476458, 135.35876097227788]\n",
      "[43.0, 354.83398211412265, 111.5261321270035]\n",
      "[43.0, 337.3099903161268, 77.88006787485148]\n",
      "[43.0, 320.48695819005076, 58.954156733015964]\n",
      "[43.0, 293.85049065709705, 54.74839870149697]\n",
      "[43.0, 270.0178618118227, 54.74839870149697]\n",
      "[43.0, 247.58715231038795, 69.46855181181348]\n",
      "[43.0, 235.6708378877508, 85.59062426596967]\n",
      "[43.0, 248.2881119823078, 119.2366885181217]\n",
      "[43.0, 249.69003132614748, 144.4712367072358]\n",
      "[43.0, 253.1948296857466, 169.00482522442996]\n",
      "[43.0, 276.3264988591012, 193.53841374162414]\n",
      "[43.0, 290.34569229749786, 200.54801046082252]\n",
      "[43.0, 314.17832114277223, 192.13649439778442]\n",
      "[43.0, 335.2071113003673, 178.11730095938776]\n",
      "[43.0, 353.432062770283, 157.08851080179272]\n",
      "[43.0, 356.2359014579623, 136.05972064419774]\n",
      "[50.0, 368.1522158805995, 138.1625996599572]\n",
      "[50.0, 363.9464578490805, 110.8251724550837]\n",
      "[50.0, 359.7406998175615, 93.30118065708785]\n",
      "[50.0, 347.8243853949243, 65.96375345221429]\n",
      "[50.0, 333.8051919565276, 54.047439029577106]\n",
      "[50.0, 312.07544212701276, 42.83208427885978]\n",
      "[50.0, 289.64473262557806, 39.32728591926059]\n",
      "[50.0, 268.615942467983, 49.14072132613825]\n",
      "[50.0, 253.89578935766647, 63.15991476453496]\n",
      "[50.0, 245.48427329462848, 83.48774525021014]\n",
      "[50.0, 240.57755559118962, 94.00214032900766]\n",
      "[50.0, 255.998668373426, 135.35876097227788]\n",
      "[50.0, 269.3169021399029, 171.1077042401895]\n",
      "[50.0, 277.027458531021, 200.54801046082252]\n",
      "[50.0, 294.5514503290169, 215.9691232430588]\n",
      "[50.0, 312.07544212701276, 215.9691232430588]\n",
      "[50.0, 326.0946355654094, 213.16528455537946]\n",
      "[50.0, 351.32918375452346, 186.52881702242576]\n",
      "[50.0, 361.843578833321, 166.20098653675063]\n",
      "[58.0, 374.460852927878, 115.7318901585225]\n",
      "[58.0, 365.34837719292017, 85.59062426596967]\n",
      "[58.0, 346.42246605108465, 61.057035748775434]\n",
      "[58.0, 329.5994339250086, 52.64551968573744]\n",
      "[58.0, 311.3744824550929, 36.52344723158126]\n",
      "[58.0, 284.0370552502194, 34.42056821582173]\n",
      "[58.0, 260.90538607686483, 44.93496329461925]\n",
      "[58.0, 247.58715231038795, 68.06663246797382]\n",
      "[58.0, 242.68043460694915, 93.30118065708785]\n",
      "[58.0, 253.89578935766647, 122.04052720580103]\n",
      "[58.0, 264.410184436464, 151.48083342643406]\n",
      "[58.0, 260.204426404945, 173.2105832559489]\n",
      "[58.0, 261.6063457487847, 190.7345750539448]\n",
      "[58.0, 279.8312972187004, 219.47392160265804]\n",
      "[58.0, 295.2524100009367, 223.67967963417698]\n",
      "[58.0, 315.5802404866119, 219.47392160265804]\n",
      "[58.0, 335.2071113003673, 202.65088947658194]\n",
      "[58.0, 356.2359014579623, 183.72497833474642]\n",
      "[58.0, 372.3579739121185, 158.49043014563244]\n",
      "[58.0, 374.460852927878, 138.1625996599572]\n",
      "[64.0, 376.5637319436375, 136.76068031611754]\n",
      "[64.0, 371.6570142401987, 112.22709179892337]\n",
      "[64.0, 362.54453850524084, 82.08582590637047]\n",
      "[64.0, 347.12342572300446, 65.26279378029443]\n",
      "[64.0, 327.4965549092491, 48.439761654218444]\n",
      "[64.0, 302.9629663920549, 35.8224875596614]\n",
      "[64.0, 277.7284182029409, 49.14072132613825]\n",
      "[64.0, 258.80250706110536, 64.56183410837463]\n",
      "[64.0, 250.39099099806728, 88.394462953649]\n",
      "[64.0, 261.6063457487847, 120.63860786196136]\n",
      "[64.0, 265.1111441083838, 154.2846721141134]\n",
      "[64.0, 259.50346673302516, 188.63169603818528]\n",
      "[64.0, 265.1111441083838, 211.06240553962004]\n",
      "[64.0, 277.7284182029409, 219.47392160265804]\n",
      "[64.0, 309.27160343933343, 218.77296193073812]\n",
      "[64.0, 333.8051919565276, 203.35184914850186]\n",
      "[64.0, 354.83398211412265, 184.42593800666634]\n",
      "[64.0, 368.1522158805995, 172.5096235840291]\n",
      "[70.0, 376.5637319436375, 125.54532556540022]\n",
      "[70.0, 362.54453850524084, 89.0954226255688]\n",
      "[70.0, 343.6186273634053, 68.76759213989362]\n",
      "[70.0, 314.8792808146921, 55.44935837341677]\n",
      "[70.0, 280.5322568906202, 59.65511640493577]\n",
      "[70.0, 250.39099099806728, 72.97335017141262]\n",
      "[70.0, 241.9794749350293, 97.50693868860685]\n",
      "[70.0, 244.78331362270862, 124.14340622156055]\n",
      "[70.0, 258.1015473891855, 151.48083342643406]\n",
      "[70.0, 263.70922476454416, 179.51922030322748]\n",
      "[70.0, 266.5130634522235, 204.05280882042166]\n",
      "[70.0, 293.14953098517725, 226.4835183218563]\n",
      "[70.0, 316.98215983045156, 225.7825586499365]\n",
      "[70.0, 341.5157483476458, 215.9691232430588]\n",
      "[70.0, 366.04933686484, 187.93073636626548]\n",
      "[70.0, 380.0685303032367, 164.0981075209911]\n",
      "[72.0, 336.60903064420694, 95.40405967284732]\n",
      "[72.0, 319.78599851813095, 77.88006787485148]\n",
      "[72.0, 289.64473262557806, 72.97335017141262]\n",
      "[72.0, 277.027458531021, 95.40405967284732]\n",
      "[72.0, 276.3264988591012, 134.65780130035807]\n",
      "[72.0, 276.3264988591012, 153.5837124421936]\n",
      "[72.0, 305.0658454078144, 150.77987375451426]\n",
      "[72.0, 321.8888775338904, 133.9568416284382]\n",
      "[72.0, 331.70231294076814, 117.83476917428203]\n"
     ]
    }
   ],
   "source": [
    "convex_points=viewer.layers['Points'].data\n",
    "\n",
    "relevant_indices=[1,2,3]\n",
    "convex_points_3D = [convex_points[i] for i in relevant_indices]\n",
    "\n",
    "array_3D = []\n",
    "for a in range(0,len(convex_points)):\n",
    "    array_3D_element = [convex_points[a][i] for i in relevant_indices]\n",
    "    print(array_3D_element)\n",
    "    array_3D.append(array_3D_element)\n",
    "\n",
    "cell_hull=ConvexHull(array_3D)\n",
    "\n",
    "cell_convex_test=cell_hull.simplices #generate vertex order of convex hull\n",
    "\n",
    "surface=viewer.add_surface(data=(convex_points,cell_convex_test)) #cell_convex_test is the points data, convex points is how to join them to create polygon\n",
    "surface.normals.face.visible = True\n",
    "surface.normals.vertex.visible = True\n",
    "surface.wireframe.visible = True\n",
    "\n",
    "viewer.layers['Surface'].scale=[3,1,1]\n",
    "\n",
    "#print(cell_hull.volume)"
   ]
  },
  {
   "cell_type": "markdown",
   "id": "8ac351c1-c3ff-419c-8253-16987427eacc",
   "metadata": {},
   "source": [
    "### create 3D mask from convex hull"
   ]
  },
  {
   "cell_type": "code",
   "execution_count": 10,
   "id": "b44fb7b9-d65b-4c4b-a659-894e9ff07df0",
   "metadata": {},
   "outputs": [
    {
     "name": "stdout",
     "output_type": "stream",
     "text": [
      "(78, 588, 332)\n",
      "(588, 332, 78)\n",
      "(2, 588, 332)\n",
      "(588, 332, 2)\n"
     ]
    }
   ],
   "source": [
    "conv_points = cell_hull.points\n",
    "\n",
    "deln = Delaunay(conv_points[cell_hull.vertices])\n",
    "\n",
    "#print(i_ch1.shape)\n",
    "i_shape = i_ch1[0,:,:,:]\n",
    "print(i_shape.shape)\n",
    "\n",
    "i_shape2 = np.moveaxis(i_shape,0,2)\n",
    "print(i_shape2.shape)\n",
    "\n",
    "idx_2d = np.indices(i_shape.shape[1:])\n",
    "print(idx_2d.shape)\n",
    "idx_2d = np.moveaxis(idx_2d,0,-1)\n",
    "print(idx_2d.shape)\n",
    "\n",
    "#print(i_shape.ndim)\n",
    "#print(*i_shape.shape)\n",
    "\n",
    "idx_3d = np.zeros((*i_shape.shape[1:3],i_shape.ndim))\n",
    "idx_3d.shape\n",
    "idx_3d[:,:,1:] = idx_2d\n",
    "\n",
    "mask=np.zeros_like(i_shape,dtype=bool)\n",
    "\n",
    "#mask.shape\n",
    "#idx_3d.shape\n",
    "#len(i_shape)\n",
    "\n",
    "\n",
    "for z in range(len(i_shape)):\n",
    "    idx_3d[:,:,0] = z\n",
    "    s = deln.find_simplex(idx_3d)\n",
    "    mask[z,(s != -1)] = 1\n",
    "\n",
    "viewer.add_image(mask, name='mask',colormap='magenta',blending='additive')\n",
    "viewer.layers['mask'].scale=[3,1,1]\n"
   ]
  },
  {
   "cell_type": "markdown",
   "id": "da8ff715-30d1-49e8-bc2e-79b8730d88d6",
   "metadata": {},
   "source": [
    "### crop on mask"
   ]
  },
  {
   "cell_type": "code",
   "execution_count": 11,
   "id": "f9f22fc3-7a65-408b-a32f-07acf2508649",
   "metadata": {},
   "outputs": [],
   "source": [
    "#mask.shape\n",
    "#i_shape.shape\n",
    "###convert mask from bool to 16bit integer\n",
    "mask_int = mask*1\n",
    "\n",
    "masked_crop = np.zeros(i_shape2.shape)\n",
    "#masked_crop.shape\n",
    "#i_shape2.dtype\n",
    "masked_crop = masked_crop.astype(int)\n",
    "#mask_int.dtype\n",
    "mask_int_uint = np.uint16(mask_int)\n",
    "mask_crop_uint = np.uint16(masked_crop)\n",
    "#mask.shape\n",
    "#i_ch1.shape\n",
    "\n",
    "i_ch1_tp0=i_ch1[0,:,:,:]\n",
    "#i_ch1_tp0 = np.moveaxis(i_ch1_tp0,0,-1)\n",
    "#i_ch1_tp0.shape\n",
    "#print('{} = mask_crop_uint  {} = i_ch1_tp0'.format(mask_crop_uint.shape,(np.flip(i_ch1_tp0)).shape))\n",
    "\n"
   ]
  },
  {
   "cell_type": "code",
   "execution_count": 12,
   "id": "96cdca55-9173-4b44-b70b-3b902d2cf101",
   "metadata": {},
   "outputs": [
    {
     "data": {
      "text/plain": [
       "32"
      ]
     },
     "execution_count": 12,
     "metadata": {},
     "output_type": "execute_result"
    }
   ],
   "source": [
    "t_,z_,x_,y_ = i_ch1.shape #extract dimensions\n",
    "t_"
   ]
  },
  {
   "cell_type": "code",
   "execution_count": 13,
   "id": "623b5756-00c7-4318-a7c9-8ec3a926f51f",
   "metadata": {},
   "outputs": [],
   "source": [
    "i_ch1_copy = copy.deepcopy(i_ch1) #create copy of data"
   ]
  },
  {
   "cell_type": "code",
   "execution_count": 14,
   "id": "aff426f7-3f85-47d9-a854-f2993094a111",
   "metadata": {},
   "outputs": [],
   "source": [
    "i_ch1_copy[:t_,:,:,:] *=  mask_int_uint #multiply 3D mask array by zyx elements of 4D tzyx array - stepwise C level multiplication of spatial dimensions per t element"
   ]
  },
  {
   "cell_type": "code",
   "execution_count": 15,
   "id": "5d2c91a2-ab68-4738-9058-7219804d6c7e",
   "metadata": {},
   "outputs": [
    {
     "name": "stdout",
     "output_type": "stream",
     "text": [
      "(32, 78, 588, 332)\n",
      "(78, 588, 332)\n",
      "(32, 78, 588, 332)\n"
     ]
    }
   ],
   "source": [
    "print(i_ch1.shape)\n",
    "print(mask.shape)\n",
    "print(i_ch1_copy.shape) #check shape is correct"
   ]
  },
  {
   "cell_type": "code",
   "execution_count": 16,
   "id": "1a61665a-9dc7-4ace-8350-33801ef9a1d6",
   "metadata": {},
   "outputs": [],
   "source": [
    "viewer.add_image(i_ch1_copy,name='mask_crop')\n",
    "viewer.layers['mask_crop'].scale = [3,1,1]"
   ]
  },
  {
   "cell_type": "code",
   "execution_count": 215,
   "id": "1dcb4573-2b9f-4c53-9ff6-f3e77a901bf2",
   "metadata": {},
   "outputs": [
    {
     "data": {
      "text/plain": [
       "\"\\nfileID = str(6)\\nseg_ID = fileID+'_seg'\\nmask_ID = fileID+'_mask'\\nmaskID_name = 'mask'+fileID\\n\\nseg_=viewer.layers[seg_ID].data\\nseg_=seg_*1\\nskimage.io.imsave('D:/nicole/Fused/D:/nicole/Fused/fusing_myosin-488_ecad647_smad6emb1_immuno_zoom_-01-Airyscan Processing-02/'+seg_ID+'.tiff',seg_)\\n\\nmask_=viewer.layers[maskID_name].data\\nmask_=mask_*1\\nskimage.io.imsave('D:/nicole/Fused/D:/nicole/Fused/fusing_myosin-488_ecad647_smad6emb1_immuno_zoom_-01-Airyscan Processing-02/'+mask_ID+'.tiff',mask_)\\n\""
      ]
     },
     "execution_count": 215,
     "metadata": {},
     "output_type": "execute_result"
    }
   ],
   "source": [
    "'''\n",
    "fileID = str(6)\n",
    "seg_ID = fileID+'_seg'\n",
    "mask_ID = fileID+'_mask'\n",
    "maskID_name = 'mask'+fileID\n",
    "\n",
    "seg_=viewer.layers[seg_ID].data\n",
    "seg_=seg_*1\n",
    "skimage.io.imsave('D:/nicole/Fused/D:/nicole/Fused/fusing_myosin-488_ecad647_smad6emb1_immuno_zoom_-01-Airyscan Processing-02/'+seg_ID+'.tiff',seg_)\n",
    "\n",
    "mask_=viewer.layers[maskID_name].data\n",
    "mask_=mask_*1\n",
    "skimage.io.imsave('D:/nicole/Fused/D:/nicole/Fused/fusing_myosin-488_ecad647_smad6emb1_immuno_zoom_-01-Airyscan Processing-02/'+mask_ID+'.tiff',mask_)\n",
    "'''"
   ]
  },
  {
   "cell_type": "markdown",
   "id": "aadf31d4-8979-4616-b536-147fb7c04a29",
   "metadata": {},
   "source": [
    "# VECTOR TRACKING"
   ]
  },
  {
   "cell_type": "markdown",
   "id": "e9246145-41e8-4823-a1fd-28a1fd764306",
   "metadata": {},
   "source": [
    "# DEBLEACHING"
   ]
  },
  {
   "cell_type": "code",
   "execution_count": 17,
   "id": "c97ee9f5-ce1e-4ead-a3c0-556cc496712c",
   "metadata": {
    "tags": []
   },
   "outputs": [
    {
     "name": "stderr",
     "output_type": "stream",
     "text": [
      "09-Nov-24 18:31:05 - napari_bleach_correct.modules.exponential - INFO     - R-squared value for fitting a bi-exponential curve: 0.9997750132700343\n"
     ]
    }
   ],
   "source": [
    "expon = exponential_correct(i_ch1_copy,contrast_limits=[i_ch1_copy.min(),i_ch1_copy.max()],method='bi') #### run napari-bleach-correct module on eb3-GFP layer, using exponential curve method"
   ]
  },
  {
   "cell_type": "code",
   "execution_count": 18,
   "id": "994e498f-6838-4d4a-9a72-fd6db9274e4b",
   "metadata": {
    "tags": []
   },
   "outputs": [],
   "source": [
    "viewer.add_image(expon, name = 'debleach',colormap='green',blending='additive')\n",
    "viewer.layers['debleach'].scale=[3,1,1]"
   ]
  },
  {
   "cell_type": "code",
   "execution_count": 19,
   "id": "086f904a-2249-46fc-ad8e-484126903eb2",
   "metadata": {
    "tags": []
   },
   "outputs": [],
   "source": [
    "#max_z_fast = viewer.layers[debleach_name].data"
   ]
  },
  {
   "cell_type": "markdown",
   "id": "c73a39c9-a09d-493b-a0be-0a8128939d25",
   "metadata": {},
   "source": [
    "# SEGMENTATION"
   ]
  },
  {
   "cell_type": "code",
   "execution_count": 50,
   "id": "b6551ebf-58f2-4e07-a8db-3a8c18b73f8a",
   "metadata": {
    "tags": []
   },
   "outputs": [
    {
     "name": "stdout",
     "output_type": "stream",
     "text": [
      "Frame 14: 52 features\n"
     ]
    }
   ],
   "source": [
    "batch_track = tp.batch(expon[:15],diameter=(7,35,35), minmass=10000, separation=(5,13,13), noise_size=(3,4,4), percentile=15) #segmentation code, modify params here for comet detection"
   ]
  },
  {
   "cell_type": "code",
   "execution_count": 51,
   "id": "43cdabd8-6c3d-46eb-947d-429168abc116",
   "metadata": {
    "tags": []
   },
   "outputs": [
    {
     "data": {
      "text/plain": [
       "<bound method NDFrame.head of              z           y           x          mass    size_z     size_y  \\\n",
       "0    34.112942  282.299897  112.042922  1.727882e+06  1.818691  13.573600   \n",
       "1    34.025301  299.038201  122.471262  1.811889e+06  1.765290  13.284090   \n",
       "2    38.439427  268.870188   84.808815  3.638594e+05  2.328806   9.309712   \n",
       "3    38.952808  333.924398  156.962601  2.716908e+06  2.299084   7.479859   \n",
       "4    42.119625  316.085775   76.561466  1.610176e+06  2.425612  10.228692   \n",
       "..         ...         ...         ...           ...       ...        ...   \n",
       "618  69.037339  363.398730  130.827716  6.711914e+05  2.205925   9.047481   \n",
       "619  71.575750  295.891136  111.946689  4.379873e+05  2.228585  10.273170   \n",
       "620  73.594951  319.129291  176.069035  5.173189e+05  2.352435  12.536357   \n",
       "621  72.478194  299.409764  145.061508  2.318019e+05  2.481839   6.543570   \n",
       "622  73.828958  360.415363  167.576784  8.284718e+05  1.915596  12.937294   \n",
       "\n",
       "        size_x  ecc       signal    raw_mass       ep_z        ep_y  \\\n",
       "0    13.088083  NaN  1093.687695         0.0  -4.853792  -39.098685   \n",
       "1    13.164413  NaN  1118.494669         0.0  -4.853792  -39.098685   \n",
       "2    10.752872  NaN   525.444425   7290403.0   0.000932    0.007507   \n",
       "3    11.040127  NaN  2936.627790  22375310.0   0.000304    0.002446   \n",
       "4     8.187821  NaN  1638.555163  12024806.0   0.000565    0.004551   \n",
       "..         ...  ...          ...         ...        ...         ...   \n",
       "618  15.978661  NaN   943.471136   8213270.0   0.000090    0.000724   \n",
       "619   9.405312  NaN   678.579859  13035387.0   0.000057    0.000456   \n",
       "620  11.406105  NaN   319.931389   1054923.0   0.000699    0.005634   \n",
       "621   8.080572  NaN   435.108979   4720504.0   0.000156    0.001259   \n",
       "622  13.390543  NaN   464.146791         0.0 -35.750624 -287.981499   \n",
       "\n",
       "           ep_x  frame  \n",
       "0    -39.098685      0  \n",
       "1    -39.098685      0  \n",
       "2      0.007507      0  \n",
       "3      0.002446      0  \n",
       "4      0.004551      0  \n",
       "..          ...    ...  \n",
       "618    0.000724     14  \n",
       "619    0.000456     14  \n",
       "620    0.005634     14  \n",
       "621    0.001259     14  \n",
       "622 -287.981499     14  \n",
       "\n",
       "[623 rows x 14 columns]>"
      ]
     },
     "execution_count": 51,
     "metadata": {},
     "output_type": "execute_result"
    }
   ],
   "source": [
    "#batch_track.head\n",
    "isverbose(batch_track.head, vb_chk)"
   ]
  },
  {
   "cell_type": "code",
   "execution_count": 52,
   "id": "b45187ea-e4f0-44f2-9ac8-851b03098e10",
   "metadata": {
    "tags": []
   },
   "outputs": [
    {
     "data": {
      "text/plain": [
       "<bound method NDFrame.head of              z           y           x          mass    size_z     size_y  \\\n",
       "0    34.112942  282.299897  112.042922  1.727882e+06  1.818691  13.573600   \n",
       "1    34.025301  299.038201  122.471262  1.811889e+06  1.765290  13.284090   \n",
       "2    38.439427  268.870188   84.808815  3.638594e+05  2.328806   9.309712   \n",
       "3    38.952808  333.924398  156.962601  2.716908e+06  2.299084   7.479859   \n",
       "4    42.119625  316.085775   76.561466  1.610176e+06  2.425612  10.228692   \n",
       "..         ...         ...         ...           ...       ...        ...   \n",
       "618  69.037339  363.398730  130.827716  6.711914e+05  2.205925   9.047481   \n",
       "619  71.575750  295.891136  111.946689  4.379873e+05  2.228585  10.273170   \n",
       "620  73.594951  319.129291  176.069035  5.173189e+05  2.352435  12.536357   \n",
       "621  72.478194  299.409764  145.061508  2.318019e+05  2.481839   6.543570   \n",
       "622  73.828958  360.415363  167.576784  8.284718e+05  1.915596  12.937294   \n",
       "\n",
       "        size_x       signal    raw_mass       ep_z        ep_y        ep_x  \\\n",
       "0    13.088083  1093.687695         0.0  -4.853792  -39.098685  -39.098685   \n",
       "1    13.164413  1118.494669         0.0  -4.853792  -39.098685  -39.098685   \n",
       "2    10.752872   525.444425   7290403.0   0.000932    0.007507    0.007507   \n",
       "3    11.040127  2936.627790  22375310.0   0.000304    0.002446    0.002446   \n",
       "4     8.187821  1638.555163  12024806.0   0.000565    0.004551    0.004551   \n",
       "..         ...          ...         ...        ...         ...         ...   \n",
       "618  15.978661   943.471136   8213270.0   0.000090    0.000724    0.000724   \n",
       "619   9.405312   678.579859  13035387.0   0.000057    0.000456    0.000456   \n",
       "620  11.406105   319.931389   1054923.0   0.000699    0.005634    0.005634   \n",
       "621   8.080572   435.108979   4720504.0   0.000156    0.001259    0.001259   \n",
       "622  13.390543   464.146791         0.0 -35.750624 -287.981499 -287.981499   \n",
       "\n",
       "     frame  \n",
       "0        0  \n",
       "1        0  \n",
       "2        0  \n",
       "3        0  \n",
       "4        0  \n",
       "..     ...  \n",
       "618     14  \n",
       "619     14  \n",
       "620     14  \n",
       "621     14  \n",
       "622     14  \n",
       "\n",
       "[623 rows x 13 columns]>"
      ]
     },
     "execution_count": 52,
     "metadata": {},
     "output_type": "execute_result"
    }
   ],
   "source": [
    "batch_track2 = batch_track.dropna(axis=1,how='all') #ecc field seems to be returning NaN sometimes, so just in case it does we discard it.\n",
    "isverbose(batch_track2.head,vb_chk)"
   ]
  },
  {
   "cell_type": "code",
   "execution_count": 53,
   "id": "c9ed1b0c-d9b1-479d-956c-6f983083c496",
   "metadata": {
    "tags": []
   },
   "outputs": [
    {
     "data": {
      "text/plain": [
       "<bound method NDFrame.head of              z           y           x          mass    size_z     size_y  \\\n",
       "0    34.112942  282.299897  112.042922  1.727882e+06  1.818691  13.573600   \n",
       "1    34.025301  299.038201  122.471262  1.811889e+06  1.765290  13.284090   \n",
       "2    38.439427  268.870188   84.808815  3.638594e+05  2.328806   9.309712   \n",
       "3    38.952808  333.924398  156.962601  2.716908e+06  2.299084   7.479859   \n",
       "4    42.119625  316.085775   76.561466  1.610176e+06  2.425612  10.228692   \n",
       "..         ...         ...         ...           ...       ...        ...   \n",
       "618  69.037339  363.398730  130.827716  6.711914e+05  2.205925   9.047481   \n",
       "619  71.575750  295.891136  111.946689  4.379873e+05  2.228585  10.273170   \n",
       "620  73.594951  319.129291  176.069035  5.173189e+05  2.352435  12.536357   \n",
       "621  72.478194  299.409764  145.061508  2.318019e+05  2.481839   6.543570   \n",
       "622  73.828958  360.415363  167.576784  8.284718e+05  1.915596  12.937294   \n",
       "\n",
       "        size_x       signal    raw_mass       ep_z        ep_y        ep_x  \\\n",
       "0    13.088083  1093.687695         0.0  -4.853792  -39.098685  -39.098685   \n",
       "1    13.164413  1118.494669         0.0  -4.853792  -39.098685  -39.098685   \n",
       "2    10.752872   525.444425   7290403.0   0.000932    0.007507    0.007507   \n",
       "3    11.040127  2936.627790  22375310.0   0.000304    0.002446    0.002446   \n",
       "4     8.187821  1638.555163  12024806.0   0.000565    0.004551    0.004551   \n",
       "..         ...          ...         ...        ...         ...         ...   \n",
       "618  15.978661   943.471136   8213270.0   0.000090    0.000724    0.000724   \n",
       "619   9.405312   678.579859  13035387.0   0.000057    0.000456    0.000456   \n",
       "620  11.406105   319.931389   1054923.0   0.000699    0.005634    0.005634   \n",
       "621   8.080572   435.108979   4720504.0   0.000156    0.001259    0.001259   \n",
       "622  13.390543   464.146791         0.0 -35.750624 -287.981499 -287.981499   \n",
       "\n",
       "     frame  \n",
       "0        0  \n",
       "1        0  \n",
       "2        0  \n",
       "3        0  \n",
       "4        0  \n",
       "..     ...  \n",
       "618     14  \n",
       "619     14  \n",
       "620     14  \n",
       "621     14  \n",
       "622     14  \n",
       "\n",
       "[617 rows x 13 columns]>"
      ]
     },
     "execution_count": 53,
     "metadata": {},
     "output_type": "execute_result"
    }
   ],
   "source": [
    "batch_track3=batch_track2.dropna(axis=0) #once ecc field is dropped we can remove individual rows yielding NaN. dropna will just discard most of the table if we try to do this in one line, as axis=0 will discard everything while ecc is still in (if it is displaying NaN)\n",
    "isverbose(batch_track3.head,vb_chk)"
   ]
  },
  {
   "cell_type": "code",
   "execution_count": 54,
   "id": "7699390b-3f99-4636-9747-cefbe5345455",
   "metadata": {
    "tags": []
   },
   "outputs": [
    {
     "name": "stderr",
     "output_type": "stream",
     "text": [
      "C:\\Users\\hkqur\\miniconda3\\envs\\devbio_2\\lib\\site-packages\\trackpy\\plots.py:638: FutureWarning: DataFrame.applymap has been deprecated. Use DataFrame.map instead.\n",
      "  axlist = f[pos_columns].applymap(lambda x: x % 1).hist()\n"
     ]
    },
    {
     "data": {
      "text/plain": [
       "array([[<Axes: title={'center': 'x'}>, <Axes: title={'center': 'y'}>],\n",
       "       [<Axes: title={'center': 'z'}>, <Axes: >]], dtype=object)"
      ]
     },
     "execution_count": 54,
     "metadata": {},
     "output_type": "execute_result"
    },
    {
     "data": {
      "image/png": "[encoded data removed]",
      "text/plain": [
       "<Figure size 640x480 with 4 Axes>"
      ]
     },
     "metadata": {},
     "output_type": "display_data"
    }
   ],
   "source": [
    "tp.subpx_bias(batch_track)"
   ]
  },
  {
   "cell_type": "code",
   "execution_count": 55,
   "id": "947d0d18-6dcc-4c53-8a42-33886ebb4d2b",
   "metadata": {
    "tags": []
   },
   "outputs": [
    {
     "data": {
      "text/plain": [
       "(array([81.,  3.,  6.,  8., 38., 55., 58., 67., 70., 62., 31., 38., 37.,\n",
       "        19.,  7.,  9.,  8., 10.,  5.,  5.]),\n",
       " array([       0. ,  1418133.3,  2836266.6,  4254399.9,  5672533.2,\n",
       "         7090666.5,  8508799.8,  9926933.1, 11345066.4, 12763199.7,\n",
       "        14181333. , 15599466.3, 17017599.6, 18435732.9, 19853866.2,\n",
       "        21271999.5, 22690132.8, 24108266.1, 25526399.4, 26944532.7,\n",
       "        28362666. ]),\n",
       " <BarContainer object of 20 artists>)"
      ]
     },
     "execution_count": 55,
     "metadata": {},
     "output_type": "execute_result"
    },
    {
     "data": {
      "image/png": "[encoded data removed]",
      "text/plain": [
       "<Figure size 640x480 with 1 Axes>"
      ]
     },
     "metadata": {},
     "output_type": "display_data"
    }
   ],
   "source": [
    "fig,ax=plt.subplots()\n",
    "ax.hist(batch_track3['raw_mass'], bins=20)"
   ]
  },
  {
   "cell_type": "code",
   "execution_count": 56,
   "id": "7102f83f-ff18-432d-b69c-4e87be2eed08",
   "metadata": {
    "tags": []
   },
   "outputs": [
    {
     "data": {
      "text/plain": [
       "Index(['z', 'y', 'x', 'mass', 'size_z', 'size_y', 'size_x', 'signal',\n",
       "       'raw_mass', 'ep_z', 'ep_y', 'ep_x', 'frame'],\n",
       "      dtype='object')"
      ]
     },
     "execution_count": 56,
     "metadata": {},
     "output_type": "execute_result"
    }
   ],
   "source": [
    "isverbose(batch_track3.columns,vb_chk) #inspecting reworked dataframe with NaN;s removed. Most columns should still be here."
   ]
  },
  {
   "cell_type": "code",
   "execution_count": 57,
   "id": "b312ffb7-fad5-401d-94f9-13c3e64480e1",
   "metadata": {
    "tags": []
   },
   "outputs": [
    {
     "name": "stderr",
     "output_type": "stream",
     "text": [
      "C:\\Users\\hkqur\\AppData\\Local\\Temp\\ipykernel_24392\\1072258347.py:1: SettingWithCopyWarning: \n",
      "A value is trying to be set on a copy of a slice from a DataFrame.\n",
      "Try using .loc[row_indexer,col_indexer] = value instead\n",
      "\n",
      "See the caveats in the documentation: https://pandas.pydata.org/pandas-docs/stable/user_guide/indexing.html#returning-a-view-versus-a-copy\n",
      "  batch_track3['id'] = np.arange(0,len(batch_track3))\n"
     ]
    }
   ],
   "source": [
    "batch_track3['id'] = np.arange(0,len(batch_track3))"
   ]
  },
  {
   "cell_type": "code",
   "execution_count": 58,
   "id": "699c2290-36e3-4127-be66-67ca5cc7ae3c",
   "metadata": {
    "tags": []
   },
   "outputs": [],
   "source": [
    "batch_track_reorg=batch_track3[[\"id\",\"frame\",\"z\",\"y\",\"x\"]]"
   ]
  },
  {
   "cell_type": "code",
   "execution_count": 59,
   "id": "5a2a3ea8-571c-4c76-819a-07512caf0e06",
   "metadata": {
    "tags": []
   },
   "outputs": [
    {
     "data": {
      "text/plain": [
       "<bound method NDFrame.head of       id  frame          z           y           x\n",
       "0      0      0  34.112942  282.299897  112.042922\n",
       "1      1      0  34.025301  299.038201  122.471262\n",
       "2      2      0  38.439427  268.870188   84.808815\n",
       "3      3      0  38.952808  333.924398  156.962601\n",
       "4      4      0  42.119625  316.085775   76.561466\n",
       "..   ...    ...        ...         ...         ...\n",
       "618  612     14  69.037339  363.398730  130.827716\n",
       "619  613     14  71.575750  295.891136  111.946689\n",
       "620  614     14  73.594951  319.129291  176.069035\n",
       "621  615     14  72.478194  299.409764  145.061508\n",
       "622  616     14  73.828958  360.415363  167.576784\n",
       "\n",
       "[617 rows x 5 columns]>"
      ]
     },
     "execution_count": 59,
     "metadata": {},
     "output_type": "execute_result"
    }
   ],
   "source": [
    "isverbose(batch_track_reorg.head,vb_chk)"
   ]
  },
  {
   "cell_type": "markdown",
   "id": "81b2336a-3eba-4a68-a232-2f8de96940f4",
   "metadata": {},
   "source": [
    "# TRACKING"
   ]
  },
  {
   "cell_type": "code",
   "execution_count": 60,
   "id": "914c062c-ce5b-4772-b05f-d64d52dd735c",
   "metadata": {
    "tags": []
   },
   "outputs": [
    {
     "name": "stdout",
     "output_type": "stream",
     "text": [
      "Frame 14: 52 trajectories present.\n"
     ]
    }
   ],
   "source": [
    "trax = tp.link(batch_track_reorg,search_range=(5,15,15),memory=5) #increasing the range and memory can help produce more positive tracks, especially in the x,y axes where the resolution is quite high. This repersents the radius within which to look for the next hit in the track."
   ]
  },
  {
   "cell_type": "code",
   "execution_count": 61,
   "id": "2acb503e-f92c-49df-9941-799ab164497c",
   "metadata": {
    "tags": []
   },
   "outputs": [
    {
     "data": {
      "text/plain": [
       "<bound method NDFrame.head of       id  frame          z           y           x  particle\n",
       "0      0      0  34.112942  282.299897  112.042922         0\n",
       "26    26      0  73.894076  259.551521  104.827575         1\n",
       "25    25      0  66.868560  314.908397   65.860692         2\n",
       "24    24      0  63.971492  297.919275  116.981783         3\n",
       "23    23      0  58.938333  332.761885   63.189055         4\n",
       "..   ...    ...        ...         ...         ...       ...\n",
       "591  585     14  53.993454  293.565839   51.201742         6\n",
       "592  586     14  53.937841  302.576883  159.871998        93\n",
       "593  587     14  54.012596  317.421489  207.579473        52\n",
       "595  589     14  54.987999  246.923838   97.590106        11\n",
       "622  616     14  73.828958  360.415363  167.576784       109\n",
       "\n",
       "[617 rows x 6 columns]>"
      ]
     },
     "execution_count": 61,
     "metadata": {},
     "output_type": "execute_result"
    }
   ],
   "source": [
    "isverbose(trax.head,vb_chk)"
   ]
  },
  {
   "cell_type": "code",
   "execution_count": 62,
   "id": "681928ad-7541-43bd-9ff1-db8d36c96f71",
   "metadata": {
    "tags": []
   },
   "outputs": [
    {
     "data": {
      "text/plain": [
       "Index(['id', 'frame', 'z', 'y', 'x', 'particle'], dtype='object')"
      ]
     },
     "execution_count": 62,
     "metadata": {},
     "output_type": "execute_result"
    }
   ],
   "source": [
    "trax_filter=tp.filter_stubs(trax,4)\n",
    "isverbose(trax_filter.columns,vb_chk)"
   ]
  },
  {
   "cell_type": "code",
   "execution_count": 63,
   "id": "779ae20b-5494-4aac-af4f-4b9ef96f2368",
   "metadata": {
    "tags": []
   },
   "outputs": [],
   "source": [
    "trax_filter_reorg = trax_filter[['particle','frame','z','y','x']]"
   ]
  },
  {
   "cell_type": "code",
   "execution_count": 76,
   "id": "6e3bf1a0-16af-430c-9140-ee2b71edf059",
   "metadata": {
    "tags": []
   },
   "outputs": [
    {
     "name": "stderr",
     "output_type": "stream",
     "text": [
      "C:\\Users\\hkqur\\miniconda3\\envs\\devbio_2\\lib\\site-packages\\vispy\\visuals\\mesh_normals.py:129: RuntimeWarning: invalid value encountered in divide\n",
      "  unit_normals = normals / norms\n",
      "C:\\Users\\hkqur\\miniconda3\\envs\\devbio_2\\lib\\site-packages\\vispy\\visuals\\mesh_normals.py:129: RuntimeWarning: invalid value encountered in divide\n",
      "  unit_normals = normals / norms\n",
      "C:\\Users\\hkqur\\miniconda3\\envs\\devbio_2\\lib\\site-packages\\vispy\\visuals\\mesh_normals.py:129: RuntimeWarning: invalid value encountered in divide\n",
      "  unit_normals = normals / norms\n",
      "C:\\Users\\hkqur\\miniconda3\\envs\\devbio_2\\lib\\site-packages\\vispy\\visuals\\mesh_normals.py:129: RuntimeWarning: invalid value encountered in divide\n",
      "  unit_normals = normals / norms\n",
      "C:\\Users\\hkqur\\miniconda3\\envs\\devbio_2\\lib\\site-packages\\vispy\\visuals\\mesh_normals.py:129: RuntimeWarning: invalid value encountered in divide\n",
      "  unit_normals = normals / norms\n"
     ]
    }
   ],
   "source": [
    "viewer.add_tracks(trax_filter_reorg,name='tracks_T')\n",
    "viewer.layers['tracks_T'].scale=[3,1,1]"
   ]
  },
  {
   "cell_type": "markdown",
   "id": "2b873d02-2506-4bd4-99af-c30e43b716ef",
   "metadata": {},
   "source": [
    "# VECTOR GENERATION"
   ]
  },
  {
   "cell_type": "code",
   "execution_count": 65,
   "id": "adca2aa6-0344-4cc5-abaf-92884c780041",
   "metadata": {
    "tags": []
   },
   "outputs": [
    {
     "data": {
      "image/png": "[encoded data removed]",
      "text/plain": [
       "<Figure size 640x480 with 1 Axes>"
      ]
     },
     "metadata": {},
     "output_type": "display_data"
    }
   ],
   "source": [
    "track_vector=tp.plot_displacements(trax_filter,1,14,pos_columns=['y','x'])"
   ]
  },
  {
   "cell_type": "code",
   "execution_count": 66,
   "id": "dd8ba34f-6836-4453-bee1-d95661cdb076",
   "metadata": {
    "tags": []
   },
   "outputs": [
    {
     "data": {
      "image/png": "[encoded data removed]",
      "text/plain": [
       "<Figure size 640x480 with 1 Axes>"
      ]
     },
     "metadata": {},
     "output_type": "display_data"
    }
   ],
   "source": [
    "track_vector=tp.plot_displacements(trax_filter,1,14,pos_columns=['z','x'])"
   ]
  },
  {
   "cell_type": "code",
   "execution_count": 67,
   "id": "0b96c62b-524f-415c-a629-92dda3123d3f",
   "metadata": {
    "tags": []
   },
   "outputs": [],
   "source": [
    "#t_filter.to_csv('plot_tracks.csv')\n",
    "#print(t_filter)\n",
    "#t_filter[:2]"
   ]
  },
  {
   "cell_type": "code",
   "execution_count": 68,
   "id": "e4e50724-d26f-4b0c-8a31-4f660861d758",
   "metadata": {
    "tags": []
   },
   "outputs": [
    {
     "data": {
      "text/plain": [
       "<bound method NDFrame.head of            id  frame          z           y           x\n",
       "particle                                               \n",
       "1          26      0  73.894076  259.551521  104.827575\n",
       "3          24      0  63.971492  297.919275  116.981783\n",
       "4          23      0  58.938333  332.761885   63.189055\n",
       "5          21      0  57.978589  362.580267  147.422219\n",
       "6          20      0  55.986111  311.004577   51.841929\n",
       "...       ...    ...        ...         ...         ...\n",
       "93        321      8  55.010939  308.365905  170.632412\n",
       "96        316      8  51.011014  249.970823  122.639385\n",
       "97        374      9  61.930998  357.352131  170.706918\n",
       "104       420     10  63.836357  266.298108   71.818719\n",
       "106       391     10  38.983036  276.685600  187.963319\n",
       "\n",
       "[64 rows x 5 columns]>"
      ]
     },
     "execution_count": 68,
     "metadata": {},
     "output_type": "execute_result"
    }
   ],
   "source": [
    "firstgrouped_tfilter = trax_filter.groupby(\"particle\").first()\n",
    "isverbose(firstgrouped_tfilter.head,vb_chk)"
   ]
  },
  {
   "cell_type": "code",
   "execution_count": 69,
   "id": "db3d08f3-4317-4e30-ba59-c389572d78a1",
   "metadata": {
    "tags": []
   },
   "outputs": [],
   "source": [
    "#firstgrouped_tfilter.to_csv('firstinstance_grouped_tracks.csv') #writing df to csv to inspect how the df is organised. Dev auditing step, not a necessary step for function."
   ]
  },
  {
   "cell_type": "code",
   "execution_count": 70,
   "id": "cfdd137d-9d57-4cef-95c8-72c1d846fad5",
   "metadata": {
    "tags": []
   },
   "outputs": [
    {
     "data": {
      "text/plain": [
       "<bound method NDFrame.head of            id  frame          z           y           x\n",
       "particle                                               \n",
       "1         553     13  64.845937  252.141260   99.151918\n",
       "3         610     14  65.781275  324.937450  110.134947\n",
       "4         289      7  61.902465  324.425384   60.778783\n",
       "5         592     14  56.009071  360.188375  140.017738\n",
       "6         585     14  53.993454  293.565839   51.201742\n",
       "...       ...    ...        ...         ...         ...\n",
       "93        586     14  53.937841  302.576883  159.871998\n",
       "96        442     11  52.989765  248.971000  115.617474\n",
       "97        496     12  57.031822  355.033745  162.593765\n",
       "104       605     14  61.892245  264.029642   67.362042\n",
       "106       568     14  38.943770  289.353954  194.185070\n",
       "\n",
       "[64 rows x 5 columns]>"
      ]
     },
     "execution_count": 70,
     "metadata": {},
     "output_type": "execute_result"
    }
   ],
   "source": [
    "lastgrouped_tfilter = trax_filter.groupby(\"particle\").last()\n",
    "isverbose(lastgrouped_tfilter.head,vb_chk)"
   ]
  },
  {
   "cell_type": "code",
   "execution_count": 71,
   "id": "8ecfce5f-ab61-4be5-a517-b476b944d94d",
   "metadata": {
    "tags": []
   },
   "outputs": [],
   "source": [
    "vector_list=[]\n",
    "for a in range(0,len(lastgrouped_tfilter)-1):\n",
    "    vector_start = np.array([firstgrouped_tfilter.iloc[a]['z'],firstgrouped_tfilter.iloc[a]['y'],firstgrouped_tfilter.iloc[a]['x']])\n",
    "    vector_end = np.array([lastgrouped_tfilter.iloc[a]['z'],lastgrouped_tfilter.iloc[a]['y'],lastgrouped_tfilter.iloc[a]['x']]) #extract start and end point of vector to set up projection calculation\n",
    "    vector_direction = vector_end - vector_start\n",
    "\n",
    "    vector_total = [vector_start,vector_direction]\n",
    "    vector_list.append(vector_total)\n",
    "    "
   ]
  },
  {
   "cell_type": "code",
   "execution_count": 72,
   "id": "8ab79cfc-9512-4548-8629-d151a4b6f2ef",
   "metadata": {
    "tags": []
   },
   "outputs": [
    {
     "data": {
      "text/plain": [
       "(63, 2, 3)"
      ]
     },
     "execution_count": 72,
     "metadata": {},
     "output_type": "execute_result"
    }
   ],
   "source": [
    "vector_array=np.asarray(vector_list, dtype=np.float32)\n",
    "isverbose(vector_array.shape,vb_chk)"
   ]
  },
  {
   "cell_type": "code",
   "execution_count": 73,
   "id": "60ef10d0-38a9-4cc0-9478-4c7672aa68b3",
   "metadata": {
    "tags": []
   },
   "outputs": [
    {
     "data": {
      "text/plain": [
       "array([[[ 73.89407   , 259.5515    , 104.827576  ],\n",
       "        [ -9.04814   ,  -7.410261  ,  -5.6756573 ]],\n",
       "\n",
       "       [[ 63.971493  , 297.91928   , 116.98178   ],\n",
       "        [  1.8097829 ,  27.018175  ,  -6.846836  ]],\n",
       "\n",
       "       [[ 58.93833   , 332.76187   ,  63.189056  ],\n",
       "        [  2.9641323 ,  -8.336501  ,  -2.4102716 ]],\n",
       "\n",
       "       [[ 57.97859   , 362.58026   , 147.42223   ],\n",
       "        [ -1.9695182 ,  -2.3918924 ,  -7.404481  ]],\n",
       "\n",
       "       [[ 55.98611   , 311.00458   ,  51.84193   ],\n",
       "        [ -1.9926572 , -17.438738  ,  -0.6401865 ]],\n",
       "\n",
       "       [[ 54.725403  , 309.5792    , 144.62463   ],\n",
       "        [  3.0271254 , -12.69721   ,  -1.2136325 ]],\n",
       "\n",
       "       [[ 54.03268   , 340.54913   , 185.57657   ],\n",
       "        [  6.918985  ,  -4.2831163 ,  12.993648  ]],\n",
       "\n",
       "       [[ 53.00566   , 267.30493   ,  61.977886  ],\n",
       "        [  0.9865225 ,   3.814412  ,  -5.6293445 ]],\n",
       "\n",
       "       [[ 52.023865  , 259.922     , 164.71768   ],\n",
       "        [ -6.9001493 ,  -6.8305435 , -18.857634  ]],\n",
       "\n",
       "       [[ 52.003483  , 246.34818   ,  93.34738   ],\n",
       "        [  2.9845152 ,   0.57566845,   4.2427263 ]]], dtype=float32)"
      ]
     },
     "execution_count": 73,
     "metadata": {},
     "output_type": "execute_result"
    }
   ],
   "source": [
    "isverbose(vector_array[:10],vb_chk)"
   ]
  },
  {
   "cell_type": "code",
   "execution_count": 75,
   "id": "116981da-390f-4330-96fd-d80b9d0064d0",
   "metadata": {
    "tags": []
   },
   "outputs": [],
   "source": [
    "vectors_layer = viewer.add_vectors(vector_array, edge_width=3,name='vectors_layer')\n",
    "viewer.layers['vectors_layer'].scale=[3,1,1]"
   ]
  },
  {
   "cell_type": "markdown",
   "id": "147c5772-716f-4776-a2bc-d2bdd2101d5e",
   "metadata": {},
   "source": [
    "# VECTOR ANGLE CALCULATION"
   ]
  },
  {
   "cell_type": "code",
   "execution_count": 243,
   "id": "5c45b424-6fd5-446f-98ee-9bde708927ba",
   "metadata": {
    "tags": []
   },
   "outputs": [],
   "source": [
    "#functions to compare vector angles. compare direction vectors.\n",
    "def unit_vector(vector):    #Returns the unit vector of the vector  \n",
    "    return vector / np.linalg.norm(vector)\n",
    "\n",
    "def angle_between(v1, v2): #Returns the angle in radians between vectors 'v1' and 'v2'\n",
    "\n",
    "    v1_u = unit_vector(v1)\n",
    "    v2_u = unit_vector(v2)\n",
    "    return np.arccos(np.clip(np.dot(v1_u, v2_u), -1.0, 1.0))"
   ]
  },
  {
   "cell_type": "code",
   "execution_count": 244,
   "id": "8b4b7c38-bf16-4aa3-8d60-874c9035ba8d",
   "metadata": {},
   "outputs": [],
   "source": [
    "def angle_between_vectors_cross(u, v):\n",
    "    \"\"\"\n",
    "    Calculate the angle between two vectors using the cross product.\n",
    "\n",
    "    Parameters:\n",
    "    u, v : array-like\n",
    "        Input vectors.\n",
    "\n",
    "    Returns:\n",
    "    tuple\n",
    "        The angle between the vectors in radians and degrees.\n",
    "    \"\"\"\n",
    "    u = np.array(u)\n",
    "    v = np.array(v)\n",
    "    \n",
    "    cross_product = np.cross(u, v)\n",
    "    magnitude_u = np.linalg.norm(u)\n",
    "    magnitude_v = np.linalg.norm(v)\n",
    "    magnitude_cross = np.linalg.norm(cross_product)\n",
    "    \n",
    "    sin_theta = magnitude_cross / (magnitude_u * magnitude_v)\n",
    "    sin_theta = np.clip(sin_theta, -1.0, 1.0)  # Ensure sin_theta is within the valid range\n",
    "    \n",
    "    angle_radians = np.arcsin(sin_theta)\n",
    "    angle_degrees = np.degrees(angle_radians)\n",
    "    \n",
    "    #return angle_radians, angle_degrees\n",
    "    return angle_degrees"
   ]
  },
  {
   "cell_type": "code",
   "execution_count": 140,
   "id": "7f03eaed-c051-4991-83c7-949410686cc0",
   "metadata": {},
   "outputs": [],
   "source": [
    "def vector_angle_tan(u,v):\n",
    "    vec_dot = np.dot(u,v)\n",
    "    vec_magnitude_u = np.linalg.norm(u)\n",
    "    vec_magnitude_v = np.linalg.norm(v)\n",
    "    vec_cosine = np.arccos(vec_dot/(vec_magnitude_u * vec_magnitude_v))\n",
    "    vec_cross = np.cross(u,v)\n",
    "    vec_cross_magnitude = np.linalg.norm(vec_cross)\n",
    "    #vec_3d_sine = np.arcsine(vec_cross_magnitude/(vec_magnitude_u * vec_magnitude_v))\n",
    "    vec_tan_angle = np.arctan2(vec_cross_magnitude,vec_dot)\n",
    "    return vec_tan_angle"
   ]
  },
  {
   "cell_type": "markdown",
   "id": "83a94191-5952-4c0d-9f57-ebdfa07ce3e4",
   "metadata": {},
   "source": [
    "## Manually input points defining start and end of axis. \n",
    "start from apex"
   ]
  },
  {
   "cell_type": "code",
   "execution_count": 245,
   "id": "eb1ec683-a6b3-4fd7-95a1-82d4424a90e4",
   "metadata": {
    "tags": []
   },
   "outputs": [],
   "source": [
    "central_line=viewer.layers['Points'].data"
   ]
  },
  {
   "cell_type": "code",
   "execution_count": 246,
   "id": "8ea74727-d6c2-4f5a-b5e9-c880c127d5f0",
   "metadata": {
    "tags": []
   },
   "outputs": [],
   "source": [
    "central_line_3d=np.delete(central_line,0,axis=1)\n"
   ]
  },
  {
   "cell_type": "code",
   "execution_count": 247,
   "id": "415e2716-b898-4bc8-a1db-a512653d7134",
   "metadata": {
    "tags": []
   },
   "outputs": [
    {
     "data": {
      "text/plain": [
       "array([[  0.        ,  65.        , 361.70344868, 129.1959463 ],\n",
       "       [  0.        ,  65.        , 367.59059463, 335.24605452]])"
      ]
     },
     "execution_count": 247,
     "metadata": {},
     "output_type": "execute_result"
    }
   ],
   "source": [
    "isverbose(central_line,vb_chk)"
   ]
  },
  {
   "cell_type": "code",
   "execution_count": 248,
   "id": "19bfbddc-bbc0-4af4-9833-1e89814539b7",
   "metadata": {
    "tags": []
   },
   "outputs": [],
   "source": [
    "central_line_dir_vector=central_line_3d[0]-central_line_3d[1] #because I drew the points in 'reverse order' where I draw set the basal point as vector start, I've inverted how I usually calculate my direction vector. That way, we count clockwise from apical point (in this specific image, anyway. Always check thet order in which you lay down the central line points when doing it manually in napari."
   ]
  },
  {
   "cell_type": "code",
   "execution_count": 249,
   "id": "60b00529-c176-4e3d-82d8-104f19396c57",
   "metadata": {
    "tags": []
   },
   "outputs": [],
   "source": [
    "angles_from_central=[]\n",
    "for b in range(0,len(vector_array)-1):\n",
    "    track_vector_angle_dir=vector_array[:,1][b]\n",
    "    angle_from = angle_between(central_line_dir_vector,track_vector_angle_dir)\n",
    "    angles_from_central.append(angle_from)"
   ]
  },
  {
   "cell_type": "markdown",
   "id": "0d54244d-90b5-4f7a-a099-1ec43673aeef",
   "metadata": {},
   "source": [
    "### experimental"
   ]
  },
  {
   "cell_type": "code",
   "execution_count": 153,
   "id": "810fa8dd-c0ab-4d80-a32d-32d98b6cee29",
   "metadata": {},
   "outputs": [
    {
     "data": {
      "text/plain": [
       "array([ 5.9684615, 12.705724 , -8.731874 ], dtype=float32)"
      ]
     },
     "execution_count": 153,
     "metadata": {},
     "output_type": "execute_result"
    }
   ],
   "source": [
    "vector_array[:,1][1]"
   ]
  },
  {
   "cell_type": "code",
   "execution_count": 141,
   "id": "dee97d04-1811-4a30-8ddc-c3031fe4c686",
   "metadata": {},
   "outputs": [],
   "source": [
    "### using atan2 to get 2pi angles\n",
    "angles_from_central_atan2=[]\n",
    "for b in range(0,len(vector_array)-1):\n",
    "    track_vector_angle_dir_atan2=vector_array[:,1][b]\n",
    "    angle_from_atan2 = vector_angle_tan(central_line_dir_vector,track_vector_angle_dir_atan2)\n",
    "    angles_from_central_atan2.append(angle_from_atan2)"
   ]
  },
  {
   "cell_type": "code",
   "execution_count": 159,
   "id": "057ca22c-7428-4615-be2c-b7c72b10e079",
   "metadata": {},
   "outputs": [],
   "source": [
    "#get vector plane\n",
    "'''def get_plane_equation_from_points(P, Q, R):  \n",
    "    x1, y1, z1 = P\n",
    "    x2, y2, z2 = Q\n",
    "    x3, y3, z3 = R\n",
    "    a1 = x2 - x1 \n",
    "    b1 = y2 - y1 \n",
    "    c1 = z2 - z1 \n",
    "    a2 = x3 - x1 \n",
    "    b2 = y3 - y1 \n",
    "    c2 = z3 - z1 \n",
    "    a = b1 * c2 - b2 * c1 \n",
    "    b = a2 * c1 - a1 * c2 \n",
    "    c = a1 * b2 - b1 * a2 \n",
    "    d = (- a * x1 - b * y1 - c * z1) \n",
    "    return a, b, c, d\n",
    "'''\n",
    "#normal vector to a plane is calculated from the cross product of 2 vectors on the plane\n",
    "#get normal to plane the apex and track lie on\n",
    "def angle_between_vectors_plane(u,v):\n",
    "    dot_prod_vec = np.dot(u,v)\n",
    "    plane_normal = np.cross(central_line_dir_vector,track_vector_angle_dir_atan2) #cross product of apical vector vs track vector remember cross product is non commutable\n",
    "    w =np.linalg.norm(plane_normal) #normalise plane normal to give it unit length - plane_normal_normalise\n",
    "    #determinant = x1*y2*zn + x2*yn*z1 + xn*y1*z2 - z1*y2*xn - z2*yn*x1 - zn*y1*x2\n",
    "    determinant = u[0]*v[1]*w[2] +  u[1]*v[2]*w[0] +  u[2]*v[0]*w[1] - w[0]*v[1]*u[2] - w[1]*v[2]*u[0] - w[2]*v[0]*u[1]\n",
    "    tan2_angle = np.arctan2(determinant,dot_prod_vec)\n",
    "    return tan2_angle"
   ]
  },
  {
   "cell_type": "code",
   "execution_count": 160,
   "id": "bc9c3b18-98cf-41d6-8ec1-473fba2986be",
   "metadata": {
    "tags": []
   },
   "outputs": [],
   "source": [
    "### cross product\n",
    "angles_from_central_plane=[]\n",
    "for b in range(0,len(vector_array)-1):\n",
    "    track_vector_angle_dir_plane=vector_array[:,1][b]\n",
    "    angle_from_plane = angle_between_vectors_plane(central_line_dir_vector,track_vector_angle_dir_plane)\n",
    "    angles_from_central_plane.append(angle_from_plane)"
   ]
  },
  {
   "cell_type": "code",
   "execution_count": 161,
   "id": "c48807e4-bdf0-4f48-b8ca-4a91e0a37fed",
   "metadata": {},
   "outputs": [
    {
     "data": {
      "text/plain": [
       "[1.5759392879252985,\n",
       " -1.5699475749929777,\n",
       " -1.5643914360842786,\n",
       " -1.5722512141428393,\n",
       " 1.5732750934418942,\n",
       " -1.572673917329092,\n",
       " 1.7246676120189388,\n",
       " -1.5727789774682424,\n",
       " -1.567918306176548,\n",
       " 1.5719376223489716,\n",
       " 1.5442645620026758,\n",
       " 1.5708472790181005,\n",
       " 1.5747714911817507,\n",
       " -1.5718658542056112,\n",
       " -1.5704899963949908,\n",
       " 1.5698380634111835,\n",
       " -1.5703341425112736,\n",
       " 1.56997832881086,\n",
       " -1.5722326024438262,\n",
       " -1.5693070192694436,\n",
       " 1.5731090995776351,\n",
       " 1.571919662844638,\n",
       " -1.595709727972235,\n",
       " -1.567148745246799,\n",
       " 1.5808742195281633,\n",
       " -1.553941386530685,\n",
       " 1.5730258720634847,\n",
       " 1.5426334121119407,\n",
       " 1.5734772623899134,\n",
       " 1.5839422607800364,\n",
       " 1.5770894263240391,\n",
       " -1.5576556289813144,\n",
       " -1.574723029476472,\n",
       " 1.56865514820246,\n",
       " -1.5892556897291863,\n",
       " -1.5732464874608632,\n",
       " 1.576399604531526,\n",
       " 1.5720600870524455,\n",
       " 1.6212527613214303,\n",
       " 1.5729955366586432,\n",
       " 1.5687556910296068,\n",
       " -1.570099969747301,\n",
       " -1.5679828455506999,\n",
       " 1.57085600672985,\n",
       " -1.574264836360263,\n",
       " 1.569843691157042,\n",
       " -1.577746577404953,\n",
       " -1.56344506547368,\n",
       " 1.5735459260815248,\n",
       " -1.5716504685188135,\n",
       " -1.559931160532141,\n",
       " 1.5686740354797546,\n",
       " 1.576698034907055,\n",
       " 1.5579564899201175,\n",
       " -1.5715805319711758,\n",
       " -1.5719240459481727,\n",
       " 1.5722501121862331,\n",
       " 1.5684814903071744,\n",
       " 1.5672377528270967,\n",
       " 1.5742182318413644,\n",
       " 1.5708352475713356,\n",
       " -1.571539303665442,\n",
       " 1.5752328429725935,\n",
       " 1.5695190816657514,\n",
       " -1.5745529127149267,\n",
       " 1.569701612646041,\n",
       " 1.5798044035881986,\n",
       " 1.5740423882923633,\n",
       " 1.5720557596734943,\n",
       " 1.568212138587219,\n",
       " 1.6203677405081982,\n",
       " -1.6020325717372124,\n",
       " -1.5713439583600726,\n",
       " 1.5587719926044303,\n",
       " -1.583979897373129,\n",
       " -1.5767646176370755,\n",
       " 1.5720307249420136,\n",
       " 1.5668556273413778,\n",
       " -1.5715971168962979,\n",
       " -1.5884127897848,\n",
       " 1.5692829200267597,\n",
       " -1.5704617520135051,\n",
       " 1.5879149485578523,\n",
       " -1.5703518062705184,\n",
       " 1.5737418729101071,\n",
       " 1.569688385014962,\n",
       " 1.5662952121500393,\n",
       " 1.570552032097319,\n",
       " -1.5660332948439122,\n",
       " -1.6110522664258193,\n",
       " 1.5665186140555125,\n",
       " 1.5694065355394458,\n",
       " -1.578547231302113,\n",
       " 1.5840655805607349,\n",
       " -1.581557231518579,\n",
       " 1.6091133657035803,\n",
       " 1.5774959221022156,\n",
       " 1.5688621155006346,\n",
       " 1.6032073565820988,\n",
       " -1.5712607364312825,\n",
       " -1.570849705386103,\n",
       " -1.5714496380437037,\n",
       " -1.5840731255291198,\n",
       " 1.5699993945483621,\n",
       " 1.5715488811825593,\n",
       " 1.5882781831337056,\n",
       " -1.5716562270437355,\n",
       " 1.574661385826216,\n",
       " -1.5923267019078706,\n",
       " -1.5751094514019,\n",
       " 1.5556837691180387,\n",
       " 1.5694650389096967,\n",
       " 1.5759731229714313,\n",
       " 1.569386127805232,\n",
       " -1.5699059577991334,\n",
       " 1.5699502099795444,\n",
       " -1.5638637345496846,\n",
       " 1.5835580046758289,\n",
       " 1.571719560502291]"
      ]
     },
     "execution_count": 161,
     "metadata": {},
     "output_type": "execute_result"
    }
   ],
   "source": [
    "angles_from_central_plane"
   ]
  },
  {
   "cell_type": "code",
   "execution_count": 130,
   "id": "328dd7cc-1733-4d1a-a1d8-bcfd221274d3",
   "metadata": {},
   "outputs": [
    {
     "data": {
      "text/plain": [
       "[25.25784311603504,\n",
       " 65.80461142482119,\n",
       " 22.447700722097938,\n",
       " 54.21281023870456,\n",
       " 43.37199810624887,\n",
       " 51.83306603864632,\n",
       " 10.71162336844682,\n",
       " 60.46755549827234,\n",
       " 33.38068315371682,\n",
       " 76.32633577121474,\n",
       " 4.56475975882683,\n",
       " 88.80413224470921,\n",
       " 39.565787897090196,\n",
       " 66.32488784569267,\n",
       " 82.84278253413993,\n",
       " 73.31554973114451,\n",
       " 76.82933995455302,\n",
       " 66.55691246415724,\n",
       " 54.68427589184764,\n",
       " 51.35299677088879,\n",
       " 47.84450051469109,\n",
       " 66.92854058506032,\n",
       " 13.691744274213931,\n",
       " 50.20944323695019,\n",
       " 10.57385282594073,\n",
       " 11.092134425791372,\n",
       " 52.15118589330344,\n",
       " 4.243277721464951,\n",
       " 61.733578838908066,\n",
       " 10.316198549439498,\n",
       " 29.949545402259847,\n",
       " 7.816259020757979,\n",
       " 35.910320766455065,\n",
       " 56.49924060916643,\n",
       " 9.473437449013192,\n",
       " 38.08807986155062,\n",
       " 36.636225949244576,\n",
       " 70.61857921930157,\n",
       " 13.632323751568808,\n",
       " 48.002451254714224,\n",
       " 43.33958974745106,\n",
       " 72.1353584947892,\n",
       " 35.78038910855774,\n",
       " 88.59541505047865,\n",
       " 27.890926611553564,\n",
       " 68.65104728254059,\n",
       " 24.86805524986601,\n",
       " 21.607728999654118,\n",
       " 56.49455400274629,\n",
       " 64.45887784739215,\n",
       " 61.76368082006465,\n",
       " 42.372517683743055,\n",
       " 35.86465370946353,\n",
       " 10.91217151488739,\n",
       " 70.52476832341304,\n",
       " 75.61670079535715,\n",
       " 67.104709658301,\n",
       " 37.55995267141028,\n",
       " 79.64175669342097,\n",
       " 35.584141612297,\n",
       " 88.91066663748745,\n",
       " 75.36046423797791,\n",
       " 32.72199749596216,\n",
       " 67.06299314298944,\n",
       " 35.007308741610196,\n",
       " 58.832699858968375,\n",
       " 13.268736099853475,\n",
       " 46.57554046633154,\n",
       " 68.47568810033059,\n",
       " 50.84746833193965,\n",
       " 50.679241619726554,\n",
       " 10.079294199848112,\n",
       " 78.24124996869212,\n",
       " 13.689257346350676,\n",
       " 18.946000831794972,\n",
       " 24.899183808733063,\n",
       " 57.15060541198229,\n",
       " 24.25577593518551,\n",
       " 75.08397407593812,\n",
       " 22.7721228122148,\n",
       " 57.24509266743642,\n",
       " 87.66477064134939,\n",
       " 26.583845100274193,\n",
       " 78.36128454306498,\n",
       " 34.47470737724334,\n",
       " 60.065397391630945,\n",
       " 22.19877239718844,\n",
       " 83.22854387396143,\n",
       " 26.509375280142976,\n",
       " 9.5582824715898,\n",
       " 29.588837849302344,\n",
       " 52.46348687024274,\n",
       " 14.568926987997854,\n",
       " 13.192535040481449,\n",
       " 15.300413443286107,\n",
       " 17.680719659318452,\n",
       " 39.77340132433022,\n",
       " 49.55333979103212,\n",
       " 35.54800213175189,\n",
       " 78.44119523672789,\n",
       " 88.2780853541134,\n",
       " 72.96512792112223,\n",
       " 26.56298905585958,\n",
       " 77.06221280137324,\n",
       " 67.2050090014108,\n",
       " 70.3972221634054,\n",
       " 64.17456409433922,\n",
       " 32.24645492300401,\n",
       " 6.548923036012796,\n",
       " 23.45629142994202,\n",
       " 7.160819921218746,\n",
       " 58.65391893603013,\n",
       " 24.878480404428625,\n",
       " 64.2441366939831,\n",
       " 74.17445074052847,\n",
       " 64.79601725373432,\n",
       " 42.20455862670318,\n",
       " 21.82842855733791,\n",
       " 62.52793043254881]"
      ]
     },
     "execution_count": 130,
     "metadata": {},
     "output_type": "execute_result"
    }
   ],
   "source": [
    "angles_from_central_CROSS"
   ]
  },
  {
   "cell_type": "code",
   "execution_count": 250,
   "id": "d2aec877-2fd3-4564-9db3-a9bcc5f6bb90",
   "metadata": {
    "tags": []
   },
   "outputs": [
    {
     "name": "stderr",
     "output_type": "stream",
     "text": [
      "C:\\Users\\hkqur\\miniconda3\\envs\\napdevbio\\lib\\site-packages\\vispy\\visuals\\mesh_normals.py:129: RuntimeWarning: invalid value encountered in divide\n",
      "  unit_normals = normals / norms\n"
     ]
    }
   ],
   "source": [
    "#create dataframe out of angles and export to csv\n",
    "export_angles_dataframe=pd.DataFrame(angles_from_central,columns=['angles'])\n",
    "export_angles_dataframe.to_csv('mitosis_vector_angles_cell_2.csv')"
   ]
  },
  {
   "cell_type": "code",
   "execution_count": 143,
   "id": "0883dd0e-8b39-4a20-b18a-aad3718785a0",
   "metadata": {},
   "outputs": [],
   "source": [
    "### atan2 method\n",
    "#create dataframe out of angles and export to csv\n",
    "export_angles_dataframe=pd.DataFrame(angles_from_central_atan2,columns=['angles'])\n",
    "export_angles_dataframe.to_csv('mitosis_vector_atan2_angles_cell1.csv')"
   ]
  },
  {
   "cell_type": "code",
   "execution_count": 162,
   "id": "3dfd920b-7ec7-475b-a271-0f21de2efb3d",
   "metadata": {
    "tags": []
   },
   "outputs": [
    {
     "name": "stdout",
     "output_type": "stream",
     "text": [
      "Rendering frames...\n"
     ]
    },
    {
     "name": "stderr",
     "output_type": "stream",
     "text": [
      "  0%|                                                                                          | 0/136 [00:00<?, ?it/s]08-Nov-24 13:44:59 - imageio_ffmpeg - WARNING  - IMAGEIO FFMPEG_WRITER WARNING: input image is not divisible by macro_block_size=16, resizing from (1989, 1292) to (2000, 1296) to ensure video compatibility with most codecs and players. To prevent resizing, make your input image divisible by the macro_block_size or set the macro_block_size to 1 (risking incompatibility).\n",
      "100%|████████████████████████████████████████████████████████████████████████████████| 136/136 [00:08<00:00, 16.41it/s]\n"
     ]
    },
    {
     "name": "stdout",
     "output_type": "stream",
     "text": [
      "Rendering frames...\n"
     ]
    },
    {
     "name": "stderr",
     "output_type": "stream",
     "text": [
      "  0%|                                                                                           | 0/76 [00:00<?, ?it/s]08-Nov-24 13:46:03 - imageio_ffmpeg - WARNING  - IMAGEIO FFMPEG_WRITER WARNING: input image is not divisible by macro_block_size=16, resizing from (1989, 1292) to (2000, 1296) to ensure video compatibility with most codecs and players. To prevent resizing, make your input image divisible by the macro_block_size or set the macro_block_size to 1 (risking incompatibility).\n",
      "100%|██████████████████████████████████████████████████████████████████████████████████| 76/76 [00:04<00:00, 16.91it/s]\n",
      "C:\\Users\\hkqur\\miniconda3\\envs\\napdevbio\\lib\\site-packages\\vispy\\visuals\\mesh_normals.py:129: RuntimeWarning: invalid value encountered in divide\n",
      "  unit_normals = normals / norms\n"
     ]
    },
    {
     "name": "stdout",
     "output_type": "stream",
     "text": [
      "Rendering frames...\n"
     ]
    },
    {
     "name": "stderr",
     "output_type": "stream",
     "text": [
      "  0%|                                                                                           | 0/76 [00:00<?, ?it/s]08-Nov-24 13:47:51 - imageio_ffmpeg - WARNING  - IMAGEIO FFMPEG_WRITER WARNING: input image is not divisible by macro_block_size=16, resizing from (1989, 1292) to (2000, 1296) to ensure video compatibility with most codecs and players. To prevent resizing, make your input image divisible by the macro_block_size or set the macro_block_size to 1 (risking incompatibility).\n",
      "100%|██████████████████████████████████████████████████████████████████████████████████| 76/76 [00:04<00:00, 15.38it/s]\n"
     ]
    },
    {
     "name": "stdout",
     "output_type": "stream",
     "text": [
      "Rendering frames...\n"
     ]
    },
    {
     "name": "stderr",
     "output_type": "stream",
     "text": [
      "  0%|                                                                                           | 0/46 [00:00<?, ?it/s]08-Nov-24 13:51:36 - imageio_ffmpeg - WARNING  - IMAGEIO FFMPEG_WRITER WARNING: input image is not divisible by macro_block_size=16, resizing from (1989, 1292) to (2000, 1296) to ensure video compatibility with most codecs and players. To prevent resizing, make your input image divisible by the macro_block_size or set the macro_block_size to 1 (risking incompatibility).\n",
      "100%|██████████████████████████████████████████████████████████████████████████████████| 46/46 [00:02<00:00, 16.92it/s]\n"
     ]
    },
    {
     "name": "stdout",
     "output_type": "stream",
     "text": [
      "Rendering frames...\n"
     ]
    },
    {
     "name": "stderr",
     "output_type": "stream",
     "text": [
      "  0%|                                                                                           | 0/61 [00:00<?, ?it/s]08-Nov-24 13:53:42 - imageio_ffmpeg - WARNING  - IMAGEIO FFMPEG_WRITER WARNING: input image is not divisible by macro_block_size=16, resizing from (1978, 1292) to (1984, 1296) to ensure video compatibility with most codecs and players. To prevent resizing, make your input image divisible by the macro_block_size or set the macro_block_size to 1 (risking incompatibility).\n",
      "100%|██████████████████████████████████████████████████████████████████████████████████| 61/61 [00:04<00:00, 14.16it/s]\n",
      "WARNING: Error drawing visual <Image at 0x230ca2c2f70>\n",
      "08-Nov-24 13:55:21 - vispy    - WARNING  - Error drawing visual <Image at 0x230ca2c2f70>\n",
      "WARNING: Error drawing visual <Image at 0x230ca2c2f70>\n",
      "08-Nov-24 13:55:21 - vispy    - WARNING  - Error drawing visual <Image at 0x230ca2c2f70>\n",
      "WARNING: Error drawing visual <Image at 0x230ca2c2f70>\n",
      "08-Nov-24 13:55:21 - vispy    - WARNING  - Error drawing visual <Image at 0x230ca2c2f70>\n",
      "WARNING: Error drawing visual <Image at 0x230ca2c2f70>\n",
      "08-Nov-24 13:55:21 - vispy    - WARNING  - Error drawing visual <Image at 0x230ca2c2f70>\n",
      "WARNING: Error drawing visual <Image at 0x230ca2c2f70>\n",
      "08-Nov-24 13:55:21 - vispy    - WARNING  - Error drawing visual <Image at 0x230ca2c2f70>\n",
      "WARNING: Error drawing visual <Image at 0x230ca2c2f70>\n",
      "08-Nov-24 13:55:21 - vispy    - WARNING  - Error drawing visual <Image at 0x230ca2c2f70>\n",
      "WARNING: Error drawing visual <Image at 0x230ca2c2f70>\n",
      "08-Nov-24 13:55:21 - vispy    - WARNING  - Error drawing visual <Image at 0x230ca2c2f70>\n",
      "WARNING: Error drawing visual <Image at 0x230ca2c2f70>\n",
      "08-Nov-24 13:55:21 - vispy    - WARNING  - Error drawing visual <Image at 0x230ca2c2f70>\n",
      "WARNING: Error drawing visual <Image at 0x230ca2c2f70>\n",
      "08-Nov-24 13:55:21 - vispy    - WARNING  - Error drawing visual <Image at 0x230ca2c2f70>\n",
      "WARNING: Error drawing visual <Image at 0x230ca2c2f70>\n",
      "08-Nov-24 13:55:21 - vispy    - WARNING  - Error drawing visual <Image at 0x230ca2c2f70>\n",
      "WARNING: Error drawing visual <Image at 0x230ca2c2f70>\n",
      "08-Nov-24 13:55:21 - vispy    - WARNING  - Error drawing visual <Image at 0x230ca2c2f70>\n",
      "WARNING: Error drawing visual <Image at 0x230ca2c2f70>\n",
      "08-Nov-24 13:55:21 - vispy    - WARNING  - Error drawing visual <Image at 0x230ca2c2f70>\n",
      "WARNING: Error drawing visual <Image at 0x230ca2c2f70>\n",
      "08-Nov-24 13:55:21 - vispy    - WARNING  - Error drawing visual <Image at 0x230ca2c2f70>\n",
      "WARNING: Error drawing visual <Image at 0x230ca2c2f70>\n",
      "08-Nov-24 13:55:21 - vispy    - WARNING  - Error drawing visual <Image at 0x230ca2c2f70>\n",
      "WARNING: Error drawing visual <Image at 0x230ca2c2f70>\n",
      "08-Nov-24 13:55:21 - vispy    - WARNING  - Error drawing visual <Image at 0x230ca2c2f70>\n",
      "WARNING: Error drawing visual <Image at 0x230ca2c2f70>\n",
      "08-Nov-24 13:55:21 - vispy    - WARNING  - Error drawing visual <Image at 0x230ca2c2f70>\n",
      "WARNING: Error drawing visual <Image at 0x230ca2c2f70>\n",
      "08-Nov-24 13:55:22 - vispy    - WARNING  - Error drawing visual <Image at 0x230ca2c2f70>\n",
      "WARNING: Error drawing visual <Image at 0x230ca2c2f70>\n",
      "08-Nov-24 13:55:22 - vispy    - WARNING  - Error drawing visual <Image at 0x230ca2c2f70>\n",
      "WARNING: Error drawing visual <Image at 0x230ca2c2f70>\n",
      "08-Nov-24 13:55:22 - vispy    - WARNING  - Error drawing visual <Image at 0x230ca2c2f70>\n",
      "WARNING: Error drawing visual <Image at 0x230ca2c2f70>\n",
      "08-Nov-24 13:55:22 - vispy    - WARNING  - Error drawing visual <Image at 0x230ca2c2f70>\n",
      "WARNING: Error drawing visual <Image at 0x230ca2c2f70>\n",
      "08-Nov-24 13:55:22 - vispy    - WARNING  - Error drawing visual <Image at 0x230ca2c2f70>\n",
      "WARNING: Error drawing visual <Image at 0x230ca2c2f70>\n",
      "08-Nov-24 13:55:22 - vispy    - WARNING  - Error drawing visual <Image at 0x230ca2c2f70>\n",
      "WARNING: Error drawing visual <Image at 0x230ca2c2f70>\n",
      "08-Nov-24 13:55:22 - vispy    - WARNING  - Error drawing visual <Image at 0x230ca2c2f70>\n",
      "WARNING: Error drawing visual <Image at 0x230ca2c2f70>\n",
      "08-Nov-24 13:55:22 - vispy    - WARNING  - Error drawing visual <Image at 0x230ca2c2f70>\n",
      "WARNING: Error drawing visual <Image at 0x230ca2c2f70>\n",
      "08-Nov-24 13:55:22 - vispy    - WARNING  - Error drawing visual <Image at 0x230ca2c2f70>\n",
      "WARNING: Error drawing visual <Image at 0x230ca2c2f70>\n",
      "08-Nov-24 13:55:22 - vispy    - WARNING  - Error drawing visual <Image at 0x230ca2c2f70>\n",
      "WARNING: Error drawing visual <Image at 0x230ca2c2f70>\n",
      "08-Nov-24 13:55:22 - vispy    - WARNING  - Error drawing visual <Image at 0x230ca2c2f70>\n",
      "WARNING: Error drawing visual <Image at 0x230ca2c2f70>\n",
      "08-Nov-24 13:55:22 - vispy    - WARNING  - Error drawing visual <Image at 0x230ca2c2f70>\n",
      "WARNING: Error drawing visual <Image at 0x230ca2c2f70>\n",
      "08-Nov-24 13:55:22 - vispy    - WARNING  - Error drawing visual <Image at 0x230ca2c2f70>\n",
      "WARNING: Error drawing visual <Image at 0x230ca2c2f70>\n",
      "08-Nov-24 13:55:23 - vispy    - WARNING  - Error drawing visual <Image at 0x230ca2c2f70>\n",
      "WARNING: Error drawing visual <Image at 0x230ca2c2f70>\n",
      "08-Nov-24 13:55:23 - vispy    - WARNING  - Error drawing visual <Image at 0x230ca2c2f70>\n",
      "WARNING: Error drawing visual <Image at 0x230ca2c2f70>\n",
      "08-Nov-24 13:55:23 - vispy    - WARNING  - Error drawing visual <Image at 0x230ca2c2f70>\n",
      "WARNING: Error drawing visual <Image at 0x230ca2c2f70>\n",
      "08-Nov-24 13:55:23 - vispy    - WARNING  - Error drawing visual <Image at 0x230ca2c2f70>\n",
      "WARNING: Error drawing visual <Image at 0x230ca2c2f70>\n",
      "08-Nov-24 13:55:23 - vispy    - WARNING  - Error drawing visual <Image at 0x230ca2c2f70>\n",
      "WARNING: Error drawing visual <Image at 0x230ca2c2f70>\n",
      "08-Nov-24 13:55:23 - vispy    - WARNING  - Error drawing visual <Image at 0x230ca2c2f70>\n",
      "WARNING: Error drawing visual <Image at 0x230ca2c2f70>\n",
      "08-Nov-24 13:55:23 - vispy    - WARNING  - Error drawing visual <Image at 0x230ca2c2f70>\n",
      "WARNING: Error drawing visual <Image at 0x230ca2c2f70>\n",
      "08-Nov-24 13:55:23 - vispy    - WARNING  - Error drawing visual <Image at 0x230ca2c2f70>\n",
      "WARNING: Error drawing visual <Image at 0x230ca2c2f70>\n",
      "08-Nov-24 13:55:23 - vispy    - WARNING  - Error drawing visual <Image at 0x230ca2c2f70>\n",
      "WARNING: Error drawing visual <Image at 0x230ca2c2f70>\n",
      "08-Nov-24 13:55:24 - vispy    - WARNING  - Error drawing visual <Image at 0x230ca2c2f70>\n",
      "WARNING: Error drawing visual <Image at 0x230ca2c2f70>\n",
      "08-Nov-24 13:55:24 - vispy    - WARNING  - Error drawing visual <Image at 0x230ca2c2f70>\n",
      "WARNING: Error drawing visual <Image at 0x230ca2c2f70>\n",
      "08-Nov-24 13:55:24 - vispy    - WARNING  - Error drawing visual <Image at 0x230ca2c2f70>\n",
      "WARNING: Error drawing visual <Image at 0x230ca2c2f70>\n",
      "08-Nov-24 13:55:24 - vispy    - WARNING  - Error drawing visual <Image at 0x230ca2c2f70>\n",
      "WARNING: Error drawing visual <Image at 0x230ca2c2f70>\n",
      "08-Nov-24 13:55:24 - vispy    - WARNING  - Error drawing visual <Image at 0x230ca2c2f70>\n",
      "WARNING: Error drawing visual <Image at 0x230ca2c2f70>\n",
      "08-Nov-24 13:55:24 - vispy    - WARNING  - Error drawing visual <Image at 0x230ca2c2f70>\n",
      "WARNING: Error drawing visual <Image at 0x230ca2c2f70>\n",
      "08-Nov-24 13:55:24 - vispy    - WARNING  - Error drawing visual <Image at 0x230ca2c2f70>\n",
      "WARNING: Error drawing visual <Image at 0x230ca2c2f70>\n",
      "08-Nov-24 13:55:24 - vispy    - WARNING  - Error drawing visual <Image at 0x230ca2c2f70>\n",
      "WARNING: Error drawing visual <Image at 0x230ca2c2f70>\n",
      "08-Nov-24 13:55:24 - vispy    - WARNING  - Error drawing visual <Image at 0x230ca2c2f70>\n",
      "WARNING: Error drawing visual <Image at 0x230ca2c2f70>\n",
      "08-Nov-24 13:55:24 - vispy    - WARNING  - Error drawing visual <Image at 0x230ca2c2f70>\n",
      "WARNING: Error drawing visual <Image at 0x230ca2c2f70>\n",
      "08-Nov-24 13:55:24 - vispy    - WARNING  - Error drawing visual <Image at 0x230ca2c2f70>\n",
      "WARNING: Error drawing visual <Image at 0x230ca2c2f70>\n",
      "08-Nov-24 13:55:24 - vispy    - WARNING  - Error drawing visual <Image at 0x230ca2c2f70>\n",
      "WARNING: Error drawing visual <Image at 0x230ca2c2f70>\n",
      "08-Nov-24 13:55:24 - vispy    - WARNING  - Error drawing visual <Image at 0x230ca2c2f70>\n",
      "WARNING: Error drawing visual <Image at 0x230ca2c2f70>\n",
      "08-Nov-24 13:55:25 - vispy    - WARNING  - Error drawing visual <Image at 0x230ca2c2f70>\n",
      "WARNING: Error drawing visual <Image at 0x230ca2c2f70>\n",
      "08-Nov-24 13:55:25 - vispy    - WARNING  - Error drawing visual <Image at 0x230ca2c2f70>\n",
      "WARNING: Error drawing visual <vispy.visuals.mesh.MeshVisual object at 0x00000230CC46FE50>\n",
      "08-Nov-24 13:55:27 - vispy    - WARNING  - Error drawing visual <vispy.visuals.mesh.MeshVisual object at 0x00000230CC46FE50>\n",
      "WARNING: Error drawing visual <Image at 0x230ca2c2f70>\n",
      "08-Nov-24 13:55:36 - vispy    - WARNING  - Error drawing visual <Image at 0x230ca2c2f70>\n",
      "WARNING: Error drawing visual <Image at 0x230ca2c2f70>\n",
      "08-Nov-24 13:55:36 - vispy    - WARNING  - Error drawing visual <Image at 0x230ca2c2f70>\n",
      "WARNING: Error drawing visual <Image at 0x230ca2c2f70>\n",
      "08-Nov-24 13:55:36 - vispy    - WARNING  - Error drawing visual <Image at 0x230ca2c2f70>\n",
      "WARNING: Error drawing visual <Image at 0x230ca2c2f70>\n",
      "08-Nov-24 13:55:36 - vispy    - WARNING  - Error drawing visual <Image at 0x230ca2c2f70>\n",
      "WARNING: Error drawing visual <Image at 0x230ca2c2f70>\n",
      "08-Nov-24 13:55:36 - vispy    - WARNING  - Error drawing visual <Image at 0x230ca2c2f70>\n",
      "WARNING: Error drawing visual <Image at 0x230ca2c2f70>\n",
      "08-Nov-24 13:55:36 - vispy    - WARNING  - Error drawing visual <Image at 0x230ca2c2f70>\n",
      "WARNING: Error drawing visual <Image at 0x230ca2c2f70>\n",
      "08-Nov-24 13:55:37 - vispy    - WARNING  - Error drawing visual <Image at 0x230ca2c2f70>\n",
      "WARNING: Error drawing visual <Image at 0x230ca2c2f70>\n",
      "08-Nov-24 13:55:38 - vispy    - WARNING  - Error drawing visual <Image at 0x230ca2c2f70>\n",
      "WARNING: Error drawing visual <Image at 0x230ca2c2f70>\n",
      "08-Nov-24 13:55:38 - vispy    - WARNING  - Error drawing visual <Image at 0x230ca2c2f70>\n",
      "WARNING: Error drawing visual <Image at 0x230ca2c2f70>\n",
      "08-Nov-24 13:55:38 - vispy    - WARNING  - Error drawing visual <Image at 0x230ca2c2f70>\n",
      "WARNING: Error drawing visual <Image at 0x230ca2c2f70>\n",
      "08-Nov-24 13:55:38 - vispy    - WARNING  - Error drawing visual <Image at 0x230ca2c2f70>\n",
      "WARNING: Error drawing visual <Image at 0x230ca2c2f70>\n",
      "08-Nov-24 13:55:38 - vispy    - WARNING  - Error drawing visual <Image at 0x230ca2c2f70>\n",
      "WARNING: Error drawing visual <Image at 0x230ca2c2f70>\n",
      "08-Nov-24 13:55:38 - vispy    - WARNING  - Error drawing visual <Image at 0x230ca2c2f70>\n",
      "WARNING: Error drawing visual <Image at 0x230ca2c2f70>\n",
      "08-Nov-24 13:55:38 - vispy    - WARNING  - Error drawing visual <Image at 0x230ca2c2f70>\n",
      "WARNING: Error drawing visual <Image at 0x230ca2c2f70>\n",
      "08-Nov-24 13:55:38 - vispy    - WARNING  - Error drawing visual <Image at 0x230ca2c2f70>\n",
      "WARNING: Error drawing visual <Image at 0x230ca2c2f70>\n",
      "08-Nov-24 13:55:38 - vispy    - WARNING  - Error drawing visual <Image at 0x230ca2c2f70>\n",
      "WARNING: Error drawing visual <Image at 0x230ca2c2f70>\n",
      "08-Nov-24 13:55:38 - vispy    - WARNING  - Error drawing visual <Image at 0x230ca2c2f70>\n",
      "WARNING: Error drawing visual <Image at 0x230ca2c2f70>\n",
      "08-Nov-24 13:55:38 - vispy    - WARNING  - Error drawing visual <Image at 0x230ca2c2f70>\n",
      "WARNING: Error drawing visual <Image at 0x230ca2c2f70>\n",
      "08-Nov-24 13:55:38 - vispy    - WARNING  - Error drawing visual <Image at 0x230ca2c2f70>\n",
      "WARNING: Error drawing visual <Image at 0x230ca2c2f70>\n",
      "08-Nov-24 13:55:38 - vispy    - WARNING  - Error drawing visual <Image at 0x230ca2c2f70>\n",
      "WARNING: Error drawing visual <Image at 0x230ca2c2f70>\n",
      "08-Nov-24 13:55:38 - vispy    - WARNING  - Error drawing visual <Image at 0x230ca2c2f70>\n",
      "WARNING: Error drawing visual <Image at 0x230ca2c2f70>\n",
      "08-Nov-24 13:55:38 - vispy    - WARNING  - Error drawing visual <Image at 0x230ca2c2f70>\n",
      "WARNING: Error drawing visual <Image at 0x230ca2c2f70>\n",
      "08-Nov-24 13:55:38 - vispy    - WARNING  - Error drawing visual <Image at 0x230ca2c2f70>\n",
      "WARNING: Error drawing visual <Image at 0x230ca2c2f70>\n",
      "08-Nov-24 13:55:38 - vispy    - WARNING  - Error drawing visual <Image at 0x230ca2c2f70>\n",
      "WARNING: Error drawing visual <Image at 0x230ca2c2f70>\n",
      "08-Nov-24 13:55:38 - vispy    - WARNING  - Error drawing visual <Image at 0x230ca2c2f70>\n",
      "WARNING: Error drawing visual <Image at 0x230ca2c2f70>\n",
      "08-Nov-24 13:55:38 - vispy    - WARNING  - Error drawing visual <Image at 0x230ca2c2f70>\n",
      "WARNING: Error drawing visual <Image at 0x230ca2c2f70>\n",
      "08-Nov-24 13:55:38 - vispy    - WARNING  - Error drawing visual <Image at 0x230ca2c2f70>\n",
      "WARNING: Error drawing visual <Image at 0x230ca2c2f70>\n",
      "08-Nov-24 13:55:38 - vispy    - WARNING  - Error drawing visual <Image at 0x230ca2c2f70>\n",
      "WARNING: Error drawing visual <Image at 0x230ca2c2f70>\n",
      "08-Nov-24 13:55:39 - vispy    - WARNING  - Error drawing visual <Image at 0x230ca2c2f70>\n",
      "WARNING: Error drawing visual <Image at 0x230ca2c2f70>\n",
      "08-Nov-24 13:55:39 - vispy    - WARNING  - Error drawing visual <Image at 0x230ca2c2f70>\n",
      "WARNING: Error drawing visual <Image at 0x230ca2c2f70>\n",
      "08-Nov-24 13:55:39 - vispy    - WARNING  - Error drawing visual <Image at 0x230ca2c2f70>\n",
      "WARNING: Error drawing visual <Image at 0x230ca2c2f70>\n",
      "08-Nov-24 13:55:39 - vispy    - WARNING  - Error drawing visual <Image at 0x230ca2c2f70>\n",
      "WARNING: Error drawing visual <Image at 0x230ca2c2f70>\n",
      "08-Nov-24 13:55:39 - vispy    - WARNING  - Error drawing visual <Image at 0x230ca2c2f70>\n",
      "WARNING: Error drawing visual <Image at 0x230ca2c2f70>\n",
      "08-Nov-24 13:55:39 - vispy    - WARNING  - Error drawing visual <Image at 0x230ca2c2f70>\n",
      "WARNING: Error drawing visual <Image at 0x230ca2c2f70>\n",
      "08-Nov-24 13:55:39 - vispy    - WARNING  - Error drawing visual <Image at 0x230ca2c2f70>\n"
     ]
    }
   ],
   "source": [
    "### plane method\n",
    "#create dataframe out of angles and export to csv\n",
    "export_angles_dataframe=pd.DataFrame(angles_from_central_plane,columns=['angles'])\n",
    "export_angles_dataframe.to_csv('mitosis_vector_plane_angles_cell1.csv')"
   ]
  },
  {
   "cell_type": "markdown",
   "id": "05d60c0d-5758-464b-89aa-9126ad2b998c",
   "metadata": {},
   "source": [
    "appraising start and end point of random track"
   ]
  },
  {
   "cell_type": "code",
   "execution_count": 146,
   "id": "346b116e-40d0-4d0f-9063-09c19f37bbf3",
   "metadata": {
    "tags": []
   },
   "outputs": [],
   "source": [
    "points = np.array([vector_start, vector_end])\n",
    "\n"
   ]
  },
  {
   "cell_type": "code",
   "execution_count": 147,
   "id": "1b5df276-1d1f-4525-9d5c-d436199c8b80",
   "metadata": {
    "tags": []
   },
   "outputs": [],
   "source": [
    "points_layer = viewer.add_points(points, size=30)"
   ]
  },
  {
   "cell_type": "code",
   "execution_count": 148,
   "id": "30294e04-d9d4-4dac-b931-51e8eaac9ce1",
   "metadata": {
    "tags": []
   },
   "outputs": [],
   "source": [
    "viewer.layers['points'].scale=[3,1,1]"
   ]
  },
  {
   "cell_type": "code",
   "execution_count": 151,
   "id": "4ac4584a-5b11-4bb2-9a89-388cccd0aa74",
   "metadata": {
    "tags": []
   },
   "outputs": [
    {
     "data": {
      "text/plain": [
       "array([-0.01189825, -1.5442965 ,  5.1051106 ], dtype=float32)"
      ]
     },
     "execution_count": 151,
     "metadata": {},
     "output_type": "execute_result"
    }
   ],
   "source": [
    "vector_array[:,1][0]"
   ]
  },
  {
   "cell_type": "code",
   "execution_count": null,
   "id": "8a58462c-274d-4c42-9e95-374a8f583cdf",
   "metadata": {},
   "outputs": [],
   "source": []
  }
 ],
 "metadata": {
  "kernelspec": {
   "display_name": "Python 3 (ipykernel)",
   "language": "python",
   "name": "python3"
  },
  "language_info": {
   "codemirror_mode": {
    "name": "ipython",
    "version": 3
   },
   "file_extension": ".py",
   "mimetype": "text/x-python",
   "name": "python",
   "nbconvert_exporter": "python",
   "pygments_lexer": "ipython3",
   "version": "3.9.19"
  }
 },
 "nbformat": 4,
 "nbformat_minor": 5
}
